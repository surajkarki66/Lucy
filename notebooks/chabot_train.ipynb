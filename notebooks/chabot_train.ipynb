{
  "cells": [
    {
      "cell_type": "markdown",
      "metadata": {
        "id": "AlMzAxzf85LG"
      },
      "source": [
        "## Installing libraries that are not in collab"
      ]
    },
    {
      "cell_type": "code",
      "execution_count": 164,
      "metadata": {
        "colab": {
          "base_uri": "https://localhost:8080/"
        },
        "id": "F1GyiO5g82qP",
        "outputId": "3ecdbca3-dcb9-40c5-b8ae-d8697b8c3f30"
      },
      "outputs": [
        {
          "name": "stdout",
          "output_type": "stream",
          "text": [
            "Looking in indexes: https://pypi.org/simple, https://us-python.pkg.dev/colab-wheels/public/simple/\n",
            "Requirement already satisfied: transformers in /usr/local/lib/python3.7/dist-packages (4.20.1)\n",
            "Requirement already satisfied: tokenizers!=0.11.3,<0.13,>=0.11.1 in /usr/local/lib/python3.7/dist-packages (from transformers) (0.12.1)\n",
            "Requirement already satisfied: packaging>=20.0 in /usr/local/lib/python3.7/dist-packages (from transformers) (21.3)\n",
            "Requirement already satisfied: importlib-metadata in /usr/local/lib/python3.7/dist-packages (from transformers) (4.11.4)\n",
            "Requirement already satisfied: filelock in /usr/local/lib/python3.7/dist-packages (from transformers) (3.7.1)\n",
            "Requirement already satisfied: huggingface-hub<1.0,>=0.1.0 in /usr/local/lib/python3.7/dist-packages (from transformers) (0.8.1)\n",
            "Requirement already satisfied: tqdm>=4.27 in /usr/local/lib/python3.7/dist-packages (from transformers) (4.64.0)\n",
            "Requirement already satisfied: numpy>=1.17 in /usr/local/lib/python3.7/dist-packages (from transformers) (1.21.6)\n",
            "Requirement already satisfied: requests in /usr/local/lib/python3.7/dist-packages (from transformers) (2.23.0)\n",
            "Requirement already satisfied: pyyaml>=5.1 in /usr/local/lib/python3.7/dist-packages (from transformers) (6.0)\n",
            "Requirement already satisfied: regex!=2019.12.17 in /usr/local/lib/python3.7/dist-packages (from transformers) (2022.6.2)\n",
            "Requirement already satisfied: typing-extensions>=3.7.4.3 in /usr/local/lib/python3.7/dist-packages (from huggingface-hub<1.0,>=0.1.0->transformers) (4.1.1)\n",
            "Requirement already satisfied: pyparsing!=3.0.5,>=2.0.2 in /usr/local/lib/python3.7/dist-packages (from packaging>=20.0->transformers) (3.0.9)\n",
            "Requirement already satisfied: zipp>=0.5 in /usr/local/lib/python3.7/dist-packages (from importlib-metadata->transformers) (3.8.0)\n",
            "Requirement already satisfied: idna<3,>=2.5 in /usr/local/lib/python3.7/dist-packages (from requests->transformers) (2.10)\n",
            "Requirement already satisfied: chardet<4,>=3.0.2 in /usr/local/lib/python3.7/dist-packages (from requests->transformers) (3.0.4)\n",
            "Requirement already satisfied: urllib3!=1.25.0,!=1.25.1,<1.26,>=1.21.1 in /usr/local/lib/python3.7/dist-packages (from requests->transformers) (1.24.3)\n",
            "Requirement already satisfied: certifi>=2017.4.17 in /usr/local/lib/python3.7/dist-packages (from requests->transformers) (2022.6.15)\n",
            "Looking in indexes: https://pypi.org/simple, https://us-python.pkg.dev/colab-wheels/public/simple/\n",
            "Requirement already satisfied: torchinfo in /usr/local/lib/python3.7/dist-packages (1.7.0)\n"
          ]
        }
      ],
      "source": [
        "# Install Transformers\n",
        "!pip install transformers\n",
        "# To get model summary\n",
        "!pip install torchinfo"
      ]
    },
    {
      "cell_type": "code",
      "execution_count": 165,
      "metadata": {
        "colab": {
          "base_uri": "https://localhost:8080/"
        },
        "id": "g77unx2iZQpn",
        "outputId": "89e00e1a-30ac-495e-d40e-d5f25deec9c7"
      },
      "outputs": [
        {
          "name": "stdout",
          "output_type": "stream",
          "text": [
            "intents.json  \u001b[0m\u001b[01;34mruns\u001b[0m/  \u001b[01;34msample_data\u001b[0m/  test_data.csv  train_data.csv\n"
          ]
        }
      ],
      "source": [
        "ls"
      ]
    },
    {
      "cell_type": "markdown",
      "metadata": {
        "id": "_qNtYUn59fmv"
      },
      "source": [
        "## Import Libraries\n",
        "Importing the libraries that are required to perform operations on the dataset."
      ]
    },
    {
      "cell_type": "code",
      "execution_count": 166,
      "metadata": {
        "id": "lcd95yGizoBp"
      },
      "outputs": [],
      "source": [
        "import json\n",
        "import numpy as np\n",
        "import pandas as pd\n",
        "import re\n",
        "import torch\n",
        "import random\n",
        "import torch.nn as nn\n",
        "import transformers\n",
        "import matplotlib.pyplot as plt\n",
        "\n",
        "from sklearn.preprocessing import LabelEncoder\n",
        "from torchinfo import summary\n",
        "from sklearn.utils.class_weight import compute_class_weight\n",
        "from transformers import DistilBertTokenizer, DistilBertModel\n",
        "from torch.utils.data import TensorDataset, DataLoader, RandomSampler, SequentialSampler\n",
        "\n",
        "device = torch.device(\"cpu\")"
      ]
    },
    {
      "cell_type": "markdown",
      "metadata": {
        "id": "JVv8Ibb3__ak"
      },
      "source": [
        "## Data preprocessing\n",
        "Doing required processing of data."
      ]
    },
    {
      "cell_type": "code",
      "execution_count": 167,
      "metadata": {
        "id": "xXGTNut8ZdM2"
      },
      "outputs": [],
      "source": [
        "df_train = pd.read_csv(\"train_data.csv\")\n",
        "df_test = pd.read_csv(\"test_data.csv\")"
      ]
    },
    {
      "cell_type": "code",
      "execution_count": 168,
      "metadata": {
        "colab": {
          "base_uri": "https://localhost:8080/",
          "height": 206
        },
        "id": "kUCJytQf-tiW",
        "outputId": "5bc64c88-96e7-462d-b1ba-ed50d1bf6fa3"
      },
      "outputs": [
        {
          "data": {
            "text/html": [
              "\n",
              "  <div id=\"df-f5c0dea3-8ace-4fcc-9ed9-9cc78a273a91\">\n",
              "    <div class=\"colab-df-container\">\n",
              "      <div>\n",
              "<style scoped>\n",
              "    .dataframe tbody tr th:only-of-type {\n",
              "        vertical-align: middle;\n",
              "    }\n",
              "\n",
              "    .dataframe tbody tr th {\n",
              "        vertical-align: top;\n",
              "    }\n",
              "\n",
              "    .dataframe thead th {\n",
              "        text-align: right;\n",
              "    }\n",
              "</style>\n",
              "<table border=\"1\" class=\"dataframe\">\n",
              "  <thead>\n",
              "    <tr style=\"text-align: right;\">\n",
              "      <th></th>\n",
              "      <th>text</th>\n",
              "      <th>intent</th>\n",
              "    </tr>\n",
              "  </thead>\n",
              "  <tbody>\n",
              "    <tr>\n",
              "      <th>0</th>\n",
              "      <td>Hi</td>\n",
              "      <td>greeting</td>\n",
              "    </tr>\n",
              "    <tr>\n",
              "      <th>1</th>\n",
              "      <td>How are you</td>\n",
              "      <td>greeting</td>\n",
              "    </tr>\n",
              "    <tr>\n",
              "      <th>2</th>\n",
              "      <td>Is anyone there?</td>\n",
              "      <td>greeting</td>\n",
              "    </tr>\n",
              "    <tr>\n",
              "      <th>3</th>\n",
              "      <td>Hello</td>\n",
              "      <td>greeting</td>\n",
              "    </tr>\n",
              "    <tr>\n",
              "      <th>4</th>\n",
              "      <td>Good day</td>\n",
              "      <td>greeting</td>\n",
              "    </tr>\n",
              "  </tbody>\n",
              "</table>\n",
              "</div>\n",
              "      <button class=\"colab-df-convert\" onclick=\"convertToInteractive('df-f5c0dea3-8ace-4fcc-9ed9-9cc78a273a91')\"\n",
              "              title=\"Convert this dataframe to an interactive table.\"\n",
              "              style=\"display:none;\">\n",
              "        \n",
              "  <svg xmlns=\"http://www.w3.org/2000/svg\" height=\"24px\"viewBox=\"0 0 24 24\"\n",
              "       width=\"24px\">\n",
              "    <path d=\"M0 0h24v24H0V0z\" fill=\"none\"/>\n",
              "    <path d=\"M18.56 5.44l.94 2.06.94-2.06 2.06-.94-2.06-.94-.94-2.06-.94 2.06-2.06.94zm-11 1L8.5 8.5l.94-2.06 2.06-.94-2.06-.94L8.5 2.5l-.94 2.06-2.06.94zm10 10l.94 2.06.94-2.06 2.06-.94-2.06-.94-.94-2.06-.94 2.06-2.06.94z\"/><path d=\"M17.41 7.96l-1.37-1.37c-.4-.4-.92-.59-1.43-.59-.52 0-1.04.2-1.43.59L10.3 9.45l-7.72 7.72c-.78.78-.78 2.05 0 2.83L4 21.41c.39.39.9.59 1.41.59.51 0 1.02-.2 1.41-.59l7.78-7.78 2.81-2.81c.8-.78.8-2.07 0-2.86zM5.41 20L4 18.59l7.72-7.72 1.47 1.35L5.41 20z\"/>\n",
              "  </svg>\n",
              "      </button>\n",
              "      \n",
              "  <style>\n",
              "    .colab-df-container {\n",
              "      display:flex;\n",
              "      flex-wrap:wrap;\n",
              "      gap: 12px;\n",
              "    }\n",
              "\n",
              "    .colab-df-convert {\n",
              "      background-color: #E8F0FE;\n",
              "      border: none;\n",
              "      border-radius: 50%;\n",
              "      cursor: pointer;\n",
              "      display: none;\n",
              "      fill: #1967D2;\n",
              "      height: 32px;\n",
              "      padding: 0 0 0 0;\n",
              "      width: 32px;\n",
              "    }\n",
              "\n",
              "    .colab-df-convert:hover {\n",
              "      background-color: #E2EBFA;\n",
              "      box-shadow: 0px 1px 2px rgba(60, 64, 67, 0.3), 0px 1px 3px 1px rgba(60, 64, 67, 0.15);\n",
              "      fill: #174EA6;\n",
              "    }\n",
              "\n",
              "    [theme=dark] .colab-df-convert {\n",
              "      background-color: #3B4455;\n",
              "      fill: #D2E3FC;\n",
              "    }\n",
              "\n",
              "    [theme=dark] .colab-df-convert:hover {\n",
              "      background-color: #434B5C;\n",
              "      box-shadow: 0px 1px 3px 1px rgba(0, 0, 0, 0.15);\n",
              "      filter: drop-shadow(0px 1px 2px rgba(0, 0, 0, 0.3));\n",
              "      fill: #FFFFFF;\n",
              "    }\n",
              "  </style>\n",
              "\n",
              "      <script>\n",
              "        const buttonEl =\n",
              "          document.querySelector('#df-f5c0dea3-8ace-4fcc-9ed9-9cc78a273a91 button.colab-df-convert');\n",
              "        buttonEl.style.display =\n",
              "          google.colab.kernel.accessAllowed ? 'block' : 'none';\n",
              "\n",
              "        async function convertToInteractive(key) {\n",
              "          const element = document.querySelector('#df-f5c0dea3-8ace-4fcc-9ed9-9cc78a273a91');\n",
              "          const dataTable =\n",
              "            await google.colab.kernel.invokeFunction('convertToInteractive',\n",
              "                                                     [key], {});\n",
              "          if (!dataTable) return;\n",
              "\n",
              "          const docLinkHtml = 'Like what you see? Visit the ' +\n",
              "            '<a target=\"_blank\" href=https://colab.research.google.com/notebooks/data_table.ipynb>data table notebook</a>'\n",
              "            + ' to learn more about interactive tables.';\n",
              "          element.innerHTML = '';\n",
              "          dataTable['output_type'] = 'display_data';\n",
              "          await google.colab.output.renderOutput(dataTable, element);\n",
              "          const docLink = document.createElement('div');\n",
              "          docLink.innerHTML = docLinkHtml;\n",
              "          element.appendChild(docLink);\n",
              "        }\n",
              "      </script>\n",
              "    </div>\n",
              "  </div>\n",
              "  "
            ],
            "text/plain": [
              "               text    intent\n",
              "0                Hi  greeting\n",
              "1       How are you  greeting\n",
              "2  Is anyone there?  greeting\n",
              "3             Hello  greeting\n",
              "4          Good day  greeting"
            ]
          },
          "execution_count": 168,
          "metadata": {},
          "output_type": "execute_result"
        }
      ],
      "source": [
        "df_train.head()"
      ]
    },
    {
      "cell_type": "code",
      "execution_count": 169,
      "metadata": {
        "colab": {
          "base_uri": "https://localhost:8080/",
          "height": 206
        },
        "id": "wMA3JNoG_Dq5",
        "outputId": "e01de26e-072b-4169-c32f-6a6d63600686"
      },
      "outputs": [
        {
          "data": {
            "text/html": [
              "\n",
              "  <div id=\"df-71d4ecb5-16f6-4c00-a11e-8d1c7d6d5a03\">\n",
              "    <div class=\"colab-df-container\">\n",
              "      <div>\n",
              "<style scoped>\n",
              "    .dataframe tbody tr th:only-of-type {\n",
              "        vertical-align: middle;\n",
              "    }\n",
              "\n",
              "    .dataframe tbody tr th {\n",
              "        vertical-align: top;\n",
              "    }\n",
              "\n",
              "    .dataframe thead th {\n",
              "        text-align: right;\n",
              "    }\n",
              "</style>\n",
              "<table border=\"1\" class=\"dataframe\">\n",
              "  <thead>\n",
              "    <tr style=\"text-align: right;\">\n",
              "      <th></th>\n",
              "      <th>text</th>\n",
              "      <th>intent</th>\n",
              "    </tr>\n",
              "  </thead>\n",
              "  <tbody>\n",
              "    <tr>\n",
              "      <th>0</th>\n",
              "      <td>hello there</td>\n",
              "      <td>greeting</td>\n",
              "    </tr>\n",
              "    <tr>\n",
              "      <th>1</th>\n",
              "      <td>How is everything</td>\n",
              "      <td>greeting</td>\n",
              "    </tr>\n",
              "    <tr>\n",
              "      <th>2</th>\n",
              "      <td>How’s everything going</td>\n",
              "      <td>greeting</td>\n",
              "    </tr>\n",
              "    <tr>\n",
              "      <th>3</th>\n",
              "      <td>Good to see you</td>\n",
              "      <td>greeting</td>\n",
              "    </tr>\n",
              "    <tr>\n",
              "      <th>4</th>\n",
              "      <td>How you doing</td>\n",
              "      <td>greeting</td>\n",
              "    </tr>\n",
              "  </tbody>\n",
              "</table>\n",
              "</div>\n",
              "      <button class=\"colab-df-convert\" onclick=\"convertToInteractive('df-71d4ecb5-16f6-4c00-a11e-8d1c7d6d5a03')\"\n",
              "              title=\"Convert this dataframe to an interactive table.\"\n",
              "              style=\"display:none;\">\n",
              "        \n",
              "  <svg xmlns=\"http://www.w3.org/2000/svg\" height=\"24px\"viewBox=\"0 0 24 24\"\n",
              "       width=\"24px\">\n",
              "    <path d=\"M0 0h24v24H0V0z\" fill=\"none\"/>\n",
              "    <path d=\"M18.56 5.44l.94 2.06.94-2.06 2.06-.94-2.06-.94-.94-2.06-.94 2.06-2.06.94zm-11 1L8.5 8.5l.94-2.06 2.06-.94-2.06-.94L8.5 2.5l-.94 2.06-2.06.94zm10 10l.94 2.06.94-2.06 2.06-.94-2.06-.94-.94-2.06-.94 2.06-2.06.94z\"/><path d=\"M17.41 7.96l-1.37-1.37c-.4-.4-.92-.59-1.43-.59-.52 0-1.04.2-1.43.59L10.3 9.45l-7.72 7.72c-.78.78-.78 2.05 0 2.83L4 21.41c.39.39.9.59 1.41.59.51 0 1.02-.2 1.41-.59l7.78-7.78 2.81-2.81c.8-.78.8-2.07 0-2.86zM5.41 20L4 18.59l7.72-7.72 1.47 1.35L5.41 20z\"/>\n",
              "  </svg>\n",
              "      </button>\n",
              "      \n",
              "  <style>\n",
              "    .colab-df-container {\n",
              "      display:flex;\n",
              "      flex-wrap:wrap;\n",
              "      gap: 12px;\n",
              "    }\n",
              "\n",
              "    .colab-df-convert {\n",
              "      background-color: #E8F0FE;\n",
              "      border: none;\n",
              "      border-radius: 50%;\n",
              "      cursor: pointer;\n",
              "      display: none;\n",
              "      fill: #1967D2;\n",
              "      height: 32px;\n",
              "      padding: 0 0 0 0;\n",
              "      width: 32px;\n",
              "    }\n",
              "\n",
              "    .colab-df-convert:hover {\n",
              "      background-color: #E2EBFA;\n",
              "      box-shadow: 0px 1px 2px rgba(60, 64, 67, 0.3), 0px 1px 3px 1px rgba(60, 64, 67, 0.15);\n",
              "      fill: #174EA6;\n",
              "    }\n",
              "\n",
              "    [theme=dark] .colab-df-convert {\n",
              "      background-color: #3B4455;\n",
              "      fill: #D2E3FC;\n",
              "    }\n",
              "\n",
              "    [theme=dark] .colab-df-convert:hover {\n",
              "      background-color: #434B5C;\n",
              "      box-shadow: 0px 1px 3px 1px rgba(0, 0, 0, 0.15);\n",
              "      filter: drop-shadow(0px 1px 2px rgba(0, 0, 0, 0.3));\n",
              "      fill: #FFFFFF;\n",
              "    }\n",
              "  </style>\n",
              "\n",
              "      <script>\n",
              "        const buttonEl =\n",
              "          document.querySelector('#df-71d4ecb5-16f6-4c00-a11e-8d1c7d6d5a03 button.colab-df-convert');\n",
              "        buttonEl.style.display =\n",
              "          google.colab.kernel.accessAllowed ? 'block' : 'none';\n",
              "\n",
              "        async function convertToInteractive(key) {\n",
              "          const element = document.querySelector('#df-71d4ecb5-16f6-4c00-a11e-8d1c7d6d5a03');\n",
              "          const dataTable =\n",
              "            await google.colab.kernel.invokeFunction('convertToInteractive',\n",
              "                                                     [key], {});\n",
              "          if (!dataTable) return;\n",
              "\n",
              "          const docLinkHtml = 'Like what you see? Visit the ' +\n",
              "            '<a target=\"_blank\" href=https://colab.research.google.com/notebooks/data_table.ipynb>data table notebook</a>'\n",
              "            + ' to learn more about interactive tables.';\n",
              "          element.innerHTML = '';\n",
              "          dataTable['output_type'] = 'display_data';\n",
              "          await google.colab.output.renderOutput(dataTable, element);\n",
              "          const docLink = document.createElement('div');\n",
              "          docLink.innerHTML = docLinkHtml;\n",
              "          element.appendChild(docLink);\n",
              "        }\n",
              "      </script>\n",
              "    </div>\n",
              "  </div>\n",
              "  "
            ],
            "text/plain": [
              "                     text    intent\n",
              "0             hello there  greeting\n",
              "1       How is everything  greeting\n",
              "2  How’s everything going  greeting\n",
              "3         Good to see you  greeting\n",
              "4           How you doing  greeting"
            ]
          },
          "execution_count": 169,
          "metadata": {},
          "output_type": "execute_result"
        }
      ],
      "source": [
        "df_test.head()"
      ]
    },
    {
      "cell_type": "code",
      "execution_count": 170,
      "metadata": {
        "colab": {
          "base_uri": "https://localhost:8080/"
        },
        "id": "_MaQ9ddSZfwr",
        "outputId": "51b957f2-feb7-4c53-e2a5-8c303a629de5"
      },
      "outputs": [
        {
          "data": {
            "text/plain": [
              "course            34\n",
              "fees              32\n",
              "hostel            22\n",
              "fest              21\n",
              "scholarship       20\n",
              "faculty           20\n",
              "creator           18\n",
              "hours             17\n",
              "goodbye           17\n",
              "location          16\n",
              "name              15\n",
              "number            15\n",
              "document          13\n",
              "salutaion         12\n",
              "library           12\n",
              "admission         12\n",
              "event             11\n",
              "infrastructure    11\n",
              "greeting          10\n",
              "canteen           10\n",
              "student portal     9\n",
              "college intake     9\n",
              "uniform            9\n",
              "swear              9\n",
              "placement          8\n",
              "ragging            8\n",
              "faculty portal     7\n",
              "sports             7\n",
              "transport          7\n",
              "principal          7\n",
              "syllabus           7\n",
              "task               6\n",
              "facilities         5\n",
              "menu               5\n",
              "csehod             4\n",
              "hod                3\n",
              "random             3\n",
              "other              1\n",
              "Name: intent, dtype: int64"
            ]
          },
          "execution_count": 170,
          "metadata": {},
          "output_type": "execute_result"
        }
      ],
      "source": [
        "df_train[\"intent\"].value_counts()"
      ]
    },
    {
      "cell_type": "code",
      "execution_count": 171,
      "metadata": {
        "colab": {
          "base_uri": "https://localhost:8080/"
        },
        "id": "HFLpyTIJ_UTA",
        "outputId": "277eaf87-83de-4b7a-9e65-31fd09ea4556"
      },
      "outputs": [
        {
          "data": {
            "text/plain": [
              "greeting    5\n",
              "goodbye     3\n",
              "creator     3\n",
              "name        1\n",
              "Name: intent, dtype: int64"
            ]
          },
          "execution_count": 171,
          "metadata": {},
          "output_type": "execute_result"
        }
      ],
      "source": [
        "df_test[\"intent\"].value_counts()"
      ]
    },
    {
      "cell_type": "code",
      "execution_count": 172,
      "metadata": {
        "id": "fKgjS4GyZjYG"
      },
      "outputs": [],
      "source": [
        "# Converting the labels into encodings\n",
        "\n",
        "le = LabelEncoder()\n",
        "df_test['intent'] = le.fit_transform(df_test['intent'])\n",
        "df_train['intent'] = le.fit_transform(df_train['intent'])"
      ]
    },
    {
      "cell_type": "code",
      "execution_count": 173,
      "metadata": {
        "colab": {
          "base_uri": "https://localhost:8080/"
        },
        "id": "f4c8mgQT_nAn",
        "outputId": "4f375319-1a9a-437a-f8b3-f82f2f196f02"
      },
      "outputs": [
        {
          "data": {
            "text/plain": [
              "3     0.075221\n",
              "11    0.070796\n",
              "16    0.048673\n",
              "12    0.046460\n",
              "30    0.044248\n",
              "9     0.044248\n",
              "4     0.039823\n",
              "17    0.037611\n",
              "13    0.037611\n",
              "20    0.035398\n",
              "22    0.033186\n",
              "23    0.033186\n",
              "6     0.028761\n",
              "29    0.026549\n",
              "19    0.026549\n",
              "0     0.026549\n",
              "7     0.024336\n",
              "18    0.024336\n",
              "14    0.022124\n",
              "1     0.022124\n",
              "32    0.019912\n",
              "2     0.019912\n",
              "37    0.019912\n",
              "33    0.019912\n",
              "25    0.017699\n",
              "27    0.017699\n",
              "10    0.015487\n",
              "31    0.015487\n",
              "36    0.015487\n",
              "26    0.015487\n",
              "34    0.015487\n",
              "35    0.013274\n",
              "8     0.011062\n",
              "21    0.011062\n",
              "5     0.008850\n",
              "15    0.006637\n",
              "28    0.006637\n",
              "24    0.002212\n",
              "Name: intent, dtype: float64"
            ]
          },
          "execution_count": 173,
          "metadata": {},
          "output_type": "execute_result"
        }
      ],
      "source": [
        "# check class distribution\n",
        "df_train['intent'].value_counts(normalize = True)"
      ]
    },
    {
      "cell_type": "code",
      "execution_count": 174,
      "metadata": {
        "colab": {
          "base_uri": "https://localhost:8080/"
        },
        "id": "_vVKJQPE_nIl",
        "outputId": "b21b0615-55da-4826-daba-e9743c56bb79"
      },
      "outputs": [
        {
          "data": {
            "text/plain": [
              "2    0.416667\n",
              "1    0.250000\n",
              "0    0.250000\n",
              "3    0.083333\n",
              "Name: intent, dtype: float64"
            ]
          },
          "execution_count": 174,
          "metadata": {},
          "output_type": "execute_result"
        }
      ],
      "source": [
        "# check class distribution\n",
        "df_test['intent'].value_counts(normalize = True)"
      ]
    },
    {
      "cell_type": "code",
      "execution_count": 175,
      "metadata": {
        "id": "rdMCJmjsZ4ah"
      },
      "outputs": [],
      "source": [
        "# In this example we have used all the utterances for training purpose\n",
        "train_text, train_labels = df_train[\"text\"], df_train[\"intent\"]\n",
        "test_text, test_labels = df_test[\"text\"], df_test[\"intent\"]\n"
      ]
    },
    {
      "cell_type": "markdown",
      "metadata": {
        "id": "IdYQQL1AEG7v"
      },
      "source": [
        "## 1) Using DistilBert"
      ]
    },
    {
      "cell_type": "code",
      "execution_count": 176,
      "metadata": {
        "id": "QBb_-DUDa6dA"
      },
      "outputs": [],
      "source": [
        "# Load the DistilBert tokenizer\n",
        "tokenizer = DistilBertTokenizer.from_pretrained(\"distilbert-base-uncased\")"
      ]
    },
    {
      "cell_type": "code",
      "execution_count": 177,
      "metadata": {
        "colab": {
          "base_uri": "https://localhost:8080/",
          "height": 265
        },
        "id": "IczS5o5PbEM0",
        "outputId": "6b805ce8-8402-49e5-c78f-7b2edfc82908"
      },
      "outputs": [
        {
          "data": {
            "image/png": "[encoded data removed]",
            "text/plain": [
              "<Figure size 432x288 with 1 Axes>"
            ]
          },
          "metadata": {
            "needs_background": "light"
          },
          "output_type": "display_data"
        }
      ],
      "source": [
        "# get length of all the messages in the train set\n",
        "seq_len = [len(i.split()) for i in train_text]\n",
        "\n",
        "pd.Series(seq_len).hist(bins = 10)\n",
        "\n",
        "# Based on the histogram we are selecting the max len as 9\n",
        "max_seq_len = 9"
      ]
    },
    {
      "cell_type": "code",
      "execution_count": 178,
      "metadata": {
        "id": "XTeYcVbMA2y7"
      },
      "outputs": [],
      "source": [
        "# tokenize and encode sequences in the training set\n",
        "tokens_train = tokenizer(\n",
        "    train_text.tolist(),\n",
        "    max_length = max_seq_len,\n",
        "    padding=\"max_length\",\n",
        "    truncation=True,\n",
        "    return_token_type_ids=False\n",
        ")\n",
        "tokens_test = tokenizer(\n",
        "    test_text.tolist(),\n",
        "    max_length = max_seq_len,\n",
        "    padding=\"max_length\",\n",
        "    truncation=True,\n",
        "    return_token_type_ids=False\n",
        ")"
      ]
    },
    {
      "cell_type": "code",
      "execution_count": 179,
      "metadata": {
        "id": "5DA9oMP7BKAh"
      },
      "outputs": [],
      "source": [
        "# for train set\n",
        "train_seq = torch.tensor(tokens_train['input_ids'])\n",
        "train_mask = torch.tensor(tokens_train['attention_mask'])\n",
        "train_y = torch.tensor(train_labels.tolist())"
      ]
    },
    {
      "cell_type": "code",
      "execution_count": 180,
      "metadata": {
        "id": "8EgRGwlLBOL9"
      },
      "outputs": [],
      "source": [
        "# for test set\n",
        "test_seq = torch.tensor(tokens_test['input_ids'])\n",
        "test_mask = torch.tensor(tokens_test['attention_mask'])\n",
        "test_y = torch.tensor(test_labels.tolist())"
      ]
    },
    {
      "cell_type": "markdown",
      "metadata": {
        "id": "eyJSES60BuoU"
      },
      "source": [
        "## Setting Up models parameters"
      ]
    },
    {
      "cell_type": "code",
      "execution_count": 181,
      "metadata": {
        "id": "bRoPXZzpBOPP"
      },
      "outputs": [],
      "source": [
        "# Define a batch size\n",
        "batch_size = 16\n",
        "\n",
        "# wrap tensors\n",
        "train_data = TensorDataset(train_seq, train_mask, train_y)\n",
        "test_data = TensorDataset(test_seq, test_mask, test_y)\n",
        "\n",
        "# sampler for sampling the data during training and testing\n",
        "train_sampler = RandomSampler(train_data)\n",
        "test_sampler = RandomSampler(test_data)\n",
        "\n",
        "# DataLoader for train set and test set\n",
        "train_dataloader = DataLoader(train_data, sampler=train_sampler, batch_size=batch_size)\n",
        "test_dataloader = DataLoader(test_data, sampler=test_sampler, batch_size=batch_size)"
      ]
    },
    {
      "cell_type": "markdown",
      "metadata": {
        "id": "5aApHadiDC35"
      },
      "source": [
        "## Building our Lucy Model\n",
        "To build lucy we are going to use pretrained Model and our own model."
      ]
    },
    {
      "cell_type": "markdown",
      "metadata": {
        "id": "jYXiiJvQDt98"
      },
      "source": [
        "### 1) DistilBert"
      ]
    },
    {
      "cell_type": "code",
      "execution_count": 182,
      "metadata": {
        "colab": {
          "base_uri": "https://localhost:8080/"
        },
        "id": "0EKdC2N1bHV1",
        "outputId": "5cd4694e-4149-45b8-fdeb-644828586e26"
      },
      "outputs": [
        {
          "name": "stderr",
          "output_type": "stream",
          "text": [
            "Some weights of the model checkpoint at distilbert-base-uncased were not used when initializing DistilBertModel: ['vocab_layer_norm.weight', 'vocab_transform.bias', 'vocab_layer_norm.bias', 'vocab_projector.bias', 'vocab_transform.weight', 'vocab_projector.weight']\n",
            "- This IS expected if you are initializing DistilBertModel from the checkpoint of a model trained on another task or with another architecture (e.g. initializing a BertForSequenceClassification model from a BertForPreTraining model).\n",
            "- This IS NOT expected if you are initializing DistilBertModel from the checkpoint of a model that you expect to be exactly identical (initializing a BertForSequenceClassification model from a BertForSequenceClassification model).\n"
          ]
        }
      ],
      "source": [
        "# Import the DistilBert pretrained model\n",
        "dis_bert = DistilBertModel.from_pretrained(\"distilbert-base-uncased\")"
      ]
    },
    {
      "cell_type": "markdown",
      "metadata": {
        "id": "4_JCnSEDEgr_"
      },
      "source": [
        "### Architecture of Lucy Model"
      ]
    },
    {
      "cell_type": "code",
      "execution_count": 183,
      "metadata": {
        "id": "vIM5xazM19ZQ"
      },
      "outputs": [],
      "source": [
        "class Lucy(nn.Module):\n",
        "  def __init__(self, pretrained_model):      \n",
        "       super(Lucy, self).__init__()       \n",
        "       self.pretrained_model = pretrained_model \n",
        "      \n",
        "       # dropout layer\n",
        "       self.dropout = nn.Dropout(0.2)\n",
        "      \n",
        "       # relu activation function\n",
        "       self.relu =  nn.ReLU()     \n",
        "\n",
        "       # dense layer       \n",
        "       self.fc1 = nn.Linear(768,512)       \n",
        "       self.fc2 = nn.Linear(512,256)       \n",
        "       self.fc3 = nn.Linear(256,38)    \n",
        "\n",
        "       #softmax activation function\n",
        "       self.softmax = nn.LogSoftmax(dim=1)      \n",
        "      \n",
        "  #define the forward pass\n",
        "  def forward(self, sent_id, mask):      \n",
        "      #pass the inputs to the model  \n",
        "      cls_hs = self.pretrained_model(sent_id, attention_mask=mask)[0][:,0]\n",
        "      \n",
        "      x = self.fc1(cls_hs)\n",
        "      x = self.relu(x)\n",
        "      x = self.dropout(x)\n",
        "      \n",
        "      x = self.fc2(x)\n",
        "      x = self.relu(x)\n",
        "      x = self.dropout(x)      \n",
        "\n",
        "      # output layer\n",
        "      x = self.fc3(x)\n",
        "   \n",
        "      # apply softmax activation\n",
        "      x = self.softmax(x)     \n",
        "      return x"
      ]
    },
    {
      "cell_type": "code",
      "execution_count": 184,
      "metadata": {
        "colab": {
          "base_uri": "https://localhost:8080/"
        },
        "id": "92Z7fRNU3KrT",
        "outputId": "31e26b04-2482-4e3a-ff1a-9d144b0fc857"
      },
      "outputs": [
        {
          "data": {
            "text/plain": [
              "================================================================================\n",
              "Layer (type:depth-idx)                                  Param #\n",
              "================================================================================\n",
              "Lucy                                                    --\n",
              "├─DistilBertModel: 1-1                                  --\n",
              "│    └─Embeddings: 2-1                                  --\n",
              "│    │    └─Embedding: 3-1                              (23,440,896)\n",
              "│    │    └─Embedding: 3-2                              (393,216)\n",
              "│    │    └─LayerNorm: 3-3                              (1,536)\n",
              "│    │    └─Dropout: 3-4                                --\n",
              "│    └─Transformer: 2-2                                 --\n",
              "│    │    └─ModuleList: 3-5                             (42,527,232)\n",
              "├─Dropout: 1-2                                          --\n",
              "├─ReLU: 1-3                                             --\n",
              "├─Linear: 1-4                                           393,728\n",
              "├─Linear: 1-5                                           131,328\n",
              "├─Linear: 1-6                                           9,766\n",
              "├─LogSoftmax: 1-7                                       --\n",
              "================================================================================\n",
              "Total params: 66,897,702\n",
              "Trainable params: 534,822\n",
              "Non-trainable params: 66,362,880\n",
              "================================================================================"
            ]
          },
          "execution_count": 184,
          "metadata": {},
          "output_type": "execute_result"
        }
      ],
      "source": [
        "# freeze all the parameters. This will prevent updating of model weights during fine-tuning.\n",
        "\n",
        "for param in dis_bert.parameters():\n",
        "      param.requires_grad = False\n",
        "\n",
        "model = Lucy(dis_bert)\n",
        "\n",
        "# push the model to GPU\n",
        "model = model.to(device)\n",
        "\n",
        "\n",
        "summary(model)"
      ]
    },
    {
      "cell_type": "code",
      "execution_count": 185,
      "metadata": {
        "id": "yv2PP8Lo3ZxB"
      },
      "outputs": [],
      "source": [
        "# define the optimizer\n",
        "optimizer = torch.optim.AdamW(model.parameters(), lr = 1e-3)"
      ]
    },
    {
      "cell_type": "code",
      "execution_count": 186,
      "metadata": {
        "colab": {
          "base_uri": "https://localhost:8080/"
        },
        "id": "tu6Ce7oN3gMm",
        "outputId": "455ebdde-c93b-454c-c449-76c24c0f1872"
      },
      "outputs": [
        {
          "name": "stdout",
          "output_type": "stream",
          "text": [
            "[ 0.99122807  1.18947368  1.32163743  0.3498452   0.66081871  2.97368421\n",
            "  0.91497976  1.08133971  2.37894737  0.59473684  1.69924812  0.37171053\n",
            "  0.56641604  0.6996904   1.18947368  3.96491228  0.54066986  0.6996904\n",
            "  1.08133971  0.99122807  0.74342105  2.37894737  0.79298246  0.79298246\n",
            " 11.89473684  1.48684211  1.69924812  1.48684211  3.96491228  0.99122807\n",
            "  0.59473684  1.69924812  1.32163743  1.32163743  1.69924812  1.98245614\n",
            "  1.69924812  1.32163743]\n"
          ]
        }
      ],
      "source": [
        "#compute the class weights\n",
        "class_wts = compute_class_weight(class_weight=\"balanced\", classes=np.unique(train_labels), y=train_labels)\n",
        "print(class_wts)"
      ]
    },
    {
      "cell_type": "code",
      "execution_count": 187,
      "metadata": {
        "id": "U9aErGQ15UbV"
      },
      "outputs": [],
      "source": [
        "# convert class weights to tensor\n",
        "weights= torch.tensor(class_wts,dtype=torch.float)\n",
        "weights = weights.to(device)"
      ]
    },
    {
      "cell_type": "code",
      "execution_count": 188,
      "metadata": {
        "id": "DXLzBSu33qtU"
      },
      "outputs": [],
      "source": [
        "# loss function\n",
        "cross_entropy = nn.NLLLoss(weight=weights) "
      ]
    },
    {
      "cell_type": "code",
      "execution_count": 189,
      "metadata": {
        "id": "xQkpDFjS35ul"
      },
      "outputs": [],
      "source": [
        "# empty lists to store training and validation loss of each epoch\n",
        "train_losses=[]\n",
        "\n",
        "# number of training epochs\n",
        "epochs = 200\n",
        "\n",
        "# We can also use learning rate scheduler to achieve better results\n",
        "lr_sch = torch.optim.lr_scheduler.StepLR(optimizer, step_size=100, gamma=0.1)"
      ]
    },
    {
      "cell_type": "code",
      "execution_count": 190,
      "metadata": {
        "id": "UdR4GlY75ckn"
      },
      "outputs": [],
      "source": [
        "# function to train the model\n",
        "def train(dataloader):\n",
        "  \n",
        "  model.train()\n",
        "  total_loss = 0\n",
        "  \n",
        "  # empty list to save model predictions\n",
        "  total_preds=[]\n",
        "\n",
        "   # iterate over batches\n",
        "  for step,batch in enumerate(dataloader):\n",
        "    # progress update after every 50 batches.\n",
        "    if step % 50 == 0 and not step == 0:\n",
        "      print('  Batch {:>5,}  of  {:>5,}.'.format(step,    len(dataloader)))\n",
        "\n",
        "    # push the batch to gpu\n",
        "    batch = [r.to(device) for r in batch] \n",
        "    sent_id, mask, labels = batch\n",
        "\n",
        "    # get model predictions for the current batch\n",
        "    preds = model(sent_id, mask)\n",
        "\n",
        "    # compute the loss between actual and predicted values\n",
        "    loss = cross_entropy(preds, labels)\n",
        "\n",
        "    # add on to the total loss\n",
        "    total_loss = total_loss + loss.item()\n",
        "\n",
        "    # backward pass to calculate the gradients\n",
        "    loss.backward()\n",
        "\n",
        "    # clip the the gradients to 1.0. It helps in preventing the exploding gradient problem\n",
        "    torch.nn.utils.clip_grad_norm_(model.parameters(), 1.0)\n",
        "\n",
        "    # update parameters\n",
        "    optimizer.step()\n",
        "\n",
        "    # clear calculated gradients\n",
        "    optimizer.zero_grad()\n",
        "\n",
        "    # model predictions are stored on GPU. So, push it to CPU\n",
        "    preds=preds.detach().cpu().numpy()\n",
        "\n",
        "    # append the model predictions\n",
        "    total_preds.append(preds)\n",
        "\n",
        "  # compute the training loss of the epoch\n",
        "  avg_loss = total_loss / len(dataloader)\n",
        "  \n",
        "  # predictions are in the form of (no. of batches, size of batch, no. of classes).\n",
        "  # reshape the predictions in form of (number of samples, no. of classes)\n",
        "  total_preds  = np.concatenate(total_preds, axis=0)#returns the loss and predictions\n",
        "  return avg_loss, total_preds\n",
        "  \n",
        " "
      ]
    },
    {
      "cell_type": "code",
      "execution_count": 191,
      "metadata": {
        "colab": {
          "base_uri": "https://localhost:8080/"
        },
        "id": "bfVJuOIB7uXH",
        "outputId": "7550b7b7-c2de-49d4-f6d7-e22b1dd1fbbe"
      },
      "outputs": [
        {
          "name": "stdout",
          "output_type": "stream",
          "text": [
            "\n",
            " Epoch 1 / 200\n",
            "\n",
            "Training Loss: 3.661\n",
            "\n",
            " Epoch 2 / 200\n",
            "\n",
            "Training Loss: 3.568\n",
            "\n",
            " Epoch 3 / 200\n",
            "\n",
            "Training Loss: 3.394\n",
            "\n",
            " Epoch 4 / 200\n",
            "\n",
            "Training Loss: 3.164\n",
            "\n",
            " Epoch 5 / 200\n",
            "\n",
            "Training Loss: 2.973\n",
            "\n",
            " Epoch 6 / 200\n",
            "\n",
            "Training Loss: 2.749\n",
            "\n",
            " Epoch 7 / 200\n",
            "\n",
            "Training Loss: 2.462\n",
            "\n",
            " Epoch 8 / 200\n",
            "\n",
            "Training Loss: 2.204\n",
            "\n",
            " Epoch 9 / 200\n",
            "\n",
            "Training Loss: 1.979\n",
            "\n",
            " Epoch 10 / 200\n",
            "\n",
            "Training Loss: 1.804\n",
            "\n",
            " Epoch 11 / 200\n",
            "\n",
            "Training Loss: 1.600\n",
            "\n",
            " Epoch 12 / 200\n",
            "\n",
            "Training Loss: 1.421\n",
            "\n",
            " Epoch 13 / 200\n",
            "\n",
            "Training Loss: 1.312\n",
            "\n",
            " Epoch 14 / 200\n",
            "\n",
            "Training Loss: 1.257\n",
            "\n",
            " Epoch 15 / 200\n",
            "\n",
            "Training Loss: 1.067\n",
            "\n",
            " Epoch 16 / 200\n",
            "\n",
            "Training Loss: 1.036\n",
            "\n",
            " Epoch 17 / 200\n",
            "\n",
            "Training Loss: 0.909\n",
            "\n",
            " Epoch 18 / 200\n",
            "\n",
            "Training Loss: 0.806\n",
            "\n",
            " Epoch 19 / 200\n",
            "\n",
            "Training Loss: 0.745\n",
            "\n",
            " Epoch 20 / 200\n",
            "\n",
            "Training Loss: 0.687\n",
            "\n",
            " Epoch 21 / 200\n",
            "\n",
            "Training Loss: 0.614\n",
            "\n",
            " Epoch 22 / 200\n",
            "\n",
            "Training Loss: 0.609\n",
            "\n",
            " Epoch 23 / 200\n",
            "\n",
            "Training Loss: 0.560\n",
            "\n",
            " Epoch 24 / 200\n",
            "\n",
            "Training Loss: 0.476\n",
            "\n",
            " Epoch 25 / 200\n",
            "\n",
            "Training Loss: 0.495\n",
            "\n",
            " Epoch 26 / 200\n",
            "\n",
            "Training Loss: 0.437\n",
            "\n",
            " Epoch 27 / 200\n",
            "\n",
            "Training Loss: 0.420\n",
            "\n",
            " Epoch 28 / 200\n",
            "\n",
            "Training Loss: 0.372\n",
            "\n",
            " Epoch 29 / 200\n",
            "\n",
            "Training Loss: 0.371\n",
            "\n",
            " Epoch 30 / 200\n",
            "\n",
            "Training Loss: 0.345\n",
            "\n",
            " Epoch 31 / 200\n",
            "\n",
            "Training Loss: 0.329\n",
            "\n",
            " Epoch 32 / 200\n",
            "\n",
            "Training Loss: 0.295\n",
            "\n",
            " Epoch 33 / 200\n",
            "\n",
            "Training Loss: 0.268\n",
            "\n",
            " Epoch 34 / 200\n",
            "\n",
            "Training Loss: 0.212\n",
            "\n",
            " Epoch 35 / 200\n",
            "\n",
            "Training Loss: 0.290\n",
            "\n",
            " Epoch 36 / 200\n",
            "\n",
            "Training Loss: 0.258\n",
            "\n",
            " Epoch 37 / 200\n",
            "\n",
            "Training Loss: 0.226\n",
            "\n",
            " Epoch 38 / 200\n",
            "\n",
            "Training Loss: 0.264\n",
            "\n",
            " Epoch 39 / 200\n",
            "\n",
            "Training Loss: 0.265\n",
            "\n",
            " Epoch 40 / 200\n",
            "\n",
            "Training Loss: 0.240\n",
            "\n",
            " Epoch 41 / 200\n",
            "\n",
            "Training Loss: 0.225\n",
            "\n",
            " Epoch 42 / 200\n",
            "\n",
            "Training Loss: 0.214\n",
            "\n",
            " Epoch 43 / 200\n",
            "\n",
            "Training Loss: 0.193\n",
            "\n",
            " Epoch 44 / 200\n",
            "\n",
            "Training Loss: 0.184\n",
            "\n",
            " Epoch 45 / 200\n",
            "\n",
            "Training Loss: 0.181\n",
            "\n",
            " Epoch 46 / 200\n",
            "\n",
            "Training Loss: 0.163\n",
            "\n",
            " Epoch 47 / 200\n",
            "\n",
            "Training Loss: 0.144\n",
            "\n",
            " Epoch 48 / 200\n",
            "\n",
            "Training Loss: 0.140\n",
            "\n",
            " Epoch 49 / 200\n",
            "\n",
            "Training Loss: 0.157\n",
            "\n",
            " Epoch 50 / 200\n",
            "\n",
            "Training Loss: 0.169\n",
            "\n",
            " Epoch 51 / 200\n",
            "\n",
            "Training Loss: 0.124\n",
            "\n",
            " Epoch 52 / 200\n",
            "\n",
            "Training Loss: 0.158\n",
            "\n",
            " Epoch 53 / 200\n",
            "\n",
            "Training Loss: 0.159\n",
            "\n",
            " Epoch 54 / 200\n",
            "\n",
            "Training Loss: 0.198\n",
            "\n",
            " Epoch 55 / 200\n",
            "\n",
            "Training Loss: 0.128\n",
            "\n",
            " Epoch 56 / 200\n",
            "\n",
            "Training Loss: 0.179\n",
            "\n",
            " Epoch 57 / 200\n",
            "\n",
            "Training Loss: 0.121\n",
            "\n",
            " Epoch 58 / 200\n",
            "\n",
            "Training Loss: 0.111\n",
            "\n",
            " Epoch 59 / 200\n",
            "\n",
            "Training Loss: 0.099\n",
            "\n",
            " Epoch 60 / 200\n",
            "\n",
            "Training Loss: 0.155\n",
            "\n",
            " Epoch 61 / 200\n",
            "\n",
            "Training Loss: 0.113\n",
            "\n",
            " Epoch 62 / 200\n",
            "\n",
            "Training Loss: 0.108\n",
            "\n",
            " Epoch 63 / 200\n",
            "\n",
            "Training Loss: 0.113\n",
            "\n",
            " Epoch 64 / 200\n",
            "\n",
            "Training Loss: 0.120\n",
            "\n",
            " Epoch 65 / 200\n",
            "\n",
            "Training Loss: 0.101\n",
            "\n",
            " Epoch 66 / 200\n",
            "\n",
            "Training Loss: 0.117\n",
            "\n",
            " Epoch 67 / 200\n",
            "\n",
            "Training Loss: 0.079\n",
            "\n",
            " Epoch 68 / 200\n",
            "\n",
            "Training Loss: 0.135\n",
            "\n",
            " Epoch 69 / 200\n",
            "\n",
            "Training Loss: 0.087\n",
            "\n",
            " Epoch 70 / 200\n",
            "\n",
            "Training Loss: 0.103\n",
            "\n",
            " Epoch 71 / 200\n",
            "\n",
            "Training Loss: 0.102\n",
            "\n",
            " Epoch 72 / 200\n",
            "\n",
            "Training Loss: 0.056\n",
            "\n",
            " Epoch 73 / 200\n",
            "\n",
            "Training Loss: 0.078\n",
            "\n",
            " Epoch 74 / 200\n",
            "\n",
            "Training Loss: 0.099\n",
            "\n",
            " Epoch 75 / 200\n",
            "\n",
            "Training Loss: 0.096\n",
            "\n",
            " Epoch 76 / 200\n",
            "\n",
            "Training Loss: 0.043\n",
            "\n",
            " Epoch 77 / 200\n",
            "\n",
            "Training Loss: 0.070\n",
            "\n",
            " Epoch 78 / 200\n",
            "\n",
            "Training Loss: 0.092\n",
            "\n",
            " Epoch 79 / 200\n",
            "\n",
            "Training Loss: 0.053\n",
            "\n",
            " Epoch 80 / 200\n",
            "\n",
            "Training Loss: 0.120\n",
            "\n",
            " Epoch 81 / 200\n",
            "\n",
            "Training Loss: 0.057\n",
            "\n",
            " Epoch 82 / 200\n",
            "\n",
            "Training Loss: 0.120\n",
            "\n",
            " Epoch 83 / 200\n",
            "\n",
            "Training Loss: 0.055\n",
            "\n",
            " Epoch 84 / 200\n",
            "\n",
            "Training Loss: 0.075\n",
            "\n",
            " Epoch 85 / 200\n",
            "\n",
            "Training Loss: 0.070\n",
            "\n",
            " Epoch 86 / 200\n",
            "\n",
            "Training Loss: 0.050\n",
            "\n",
            " Epoch 87 / 200\n",
            "\n",
            "Training Loss: 0.066\n",
            "\n",
            " Epoch 88 / 200\n",
            "\n",
            "Training Loss: 0.084\n",
            "\n",
            " Epoch 89 / 200\n",
            "\n",
            "Training Loss: 0.080\n",
            "\n",
            " Epoch 90 / 200\n",
            "\n",
            "Training Loss: 0.098\n",
            "\n",
            " Epoch 91 / 200\n",
            "\n",
            "Training Loss: 0.044\n",
            "\n",
            " Epoch 92 / 200\n",
            "\n",
            "Training Loss: 0.056\n",
            "\n",
            " Epoch 93 / 200\n",
            "\n",
            "Training Loss: 0.035\n",
            "\n",
            " Epoch 94 / 200\n",
            "\n",
            "Training Loss: 0.039\n",
            "\n",
            " Epoch 95 / 200\n",
            "\n",
            "Training Loss: 0.090\n",
            "\n",
            " Epoch 96 / 200\n",
            "\n",
            "Training Loss: 0.138\n",
            "\n",
            " Epoch 97 / 200\n",
            "\n",
            "Training Loss: 0.037\n",
            "\n",
            " Epoch 98 / 200\n",
            "\n",
            "Training Loss: 0.038\n",
            "\n",
            " Epoch 99 / 200\n",
            "\n",
            "Training Loss: 0.064\n",
            "\n",
            " Epoch 100 / 200\n",
            "\n",
            "Training Loss: 0.094\n",
            "\n",
            " Epoch 101 / 200\n",
            "\n",
            "Training Loss: 0.082\n",
            "\n",
            " Epoch 102 / 200\n",
            "\n",
            "Training Loss: 0.058\n",
            "\n",
            " Epoch 103 / 200\n",
            "\n",
            "Training Loss: 0.033\n",
            "\n",
            " Epoch 104 / 200\n",
            "\n",
            "Training Loss: 0.047\n",
            "\n",
            " Epoch 105 / 200\n",
            "\n",
            "Training Loss: 0.062\n",
            "\n",
            " Epoch 106 / 200\n",
            "\n",
            "Training Loss: 0.077\n",
            "\n",
            " Epoch 107 / 200\n",
            "\n",
            "Training Loss: 0.071\n",
            "\n",
            " Epoch 108 / 200\n",
            "\n",
            "Training Loss: 0.070\n",
            "\n",
            " Epoch 109 / 200\n",
            "\n",
            "Training Loss: 0.049\n",
            "\n",
            " Epoch 110 / 200\n",
            "\n",
            "Training Loss: 0.067\n",
            "\n",
            " Epoch 111 / 200\n",
            "\n",
            "Training Loss: 0.034\n",
            "\n",
            " Epoch 112 / 200\n",
            "\n",
            "Training Loss: 0.044\n",
            "\n",
            " Epoch 113 / 200\n",
            "\n",
            "Training Loss: 0.054\n",
            "\n",
            " Epoch 114 / 200\n",
            "\n",
            "Training Loss: 0.117\n",
            "\n",
            " Epoch 115 / 200\n",
            "\n",
            "Training Loss: 0.083\n",
            "\n",
            " Epoch 116 / 200\n",
            "\n",
            "Training Loss: 0.080\n",
            "\n",
            " Epoch 117 / 200\n",
            "\n",
            "Training Loss: 0.039\n",
            "\n",
            " Epoch 118 / 200\n",
            "\n",
            "Training Loss: 0.061\n",
            "\n",
            " Epoch 119 / 200\n",
            "\n",
            "Training Loss: 0.045\n",
            "\n",
            " Epoch 120 / 200\n",
            "\n",
            "Training Loss: 0.044\n",
            "\n",
            " Epoch 121 / 200\n",
            "\n",
            "Training Loss: 0.056\n",
            "\n",
            " Epoch 122 / 200\n",
            "\n",
            "Training Loss: 0.023\n",
            "\n",
            " Epoch 123 / 200\n",
            "\n",
            "Training Loss: 0.055\n",
            "\n",
            " Epoch 124 / 200\n",
            "\n",
            "Training Loss: 0.087\n",
            "\n",
            " Epoch 125 / 200\n",
            "\n",
            "Training Loss: 0.025\n",
            "\n",
            " Epoch 126 / 200\n",
            "\n",
            "Training Loss: 0.026\n",
            "\n",
            " Epoch 127 / 200\n",
            "\n",
            "Training Loss: 0.039\n",
            "\n",
            " Epoch 128 / 200\n",
            "\n",
            "Training Loss: 0.068\n",
            "\n",
            " Epoch 129 / 200\n",
            "\n",
            "Training Loss: 0.075\n",
            "\n",
            " Epoch 130 / 200\n",
            "\n",
            "Training Loss: 0.025\n",
            "\n",
            " Epoch 131 / 200\n",
            "\n",
            "Training Loss: 0.064\n",
            "\n",
            " Epoch 132 / 200\n",
            "\n",
            "Training Loss: 0.036\n",
            "\n",
            " Epoch 133 / 200\n",
            "\n",
            "Training Loss: 0.056\n",
            "\n",
            " Epoch 134 / 200\n",
            "\n",
            "Training Loss: 0.031\n",
            "\n",
            " Epoch 135 / 200\n",
            "\n",
            "Training Loss: 0.054\n",
            "\n",
            " Epoch 136 / 200\n",
            "\n",
            "Training Loss: 0.067\n",
            "\n",
            " Epoch 137 / 200\n",
            "\n",
            "Training Loss: 0.058\n",
            "\n",
            " Epoch 138 / 200\n",
            "\n",
            "Training Loss: 0.035\n",
            "\n",
            " Epoch 139 / 200\n",
            "\n",
            "Training Loss: 0.084\n",
            "\n",
            " Epoch 140 / 200\n",
            "\n",
            "Training Loss: 0.090\n",
            "\n",
            " Epoch 141 / 200\n",
            "\n",
            "Training Loss: 0.045\n",
            "\n",
            " Epoch 142 / 200\n",
            "\n",
            "Training Loss: 0.052\n",
            "\n",
            " Epoch 143 / 200\n",
            "\n",
            "Training Loss: 0.021\n",
            "\n",
            " Epoch 144 / 200\n",
            "\n",
            "Training Loss: 0.026\n",
            "\n",
            " Epoch 145 / 200\n",
            "\n",
            "Training Loss: 0.069\n",
            "\n",
            " Epoch 146 / 200\n",
            "\n",
            "Training Loss: 0.065\n",
            "\n",
            " Epoch 147 / 200\n",
            "\n",
            "Training Loss: 0.058\n",
            "\n",
            " Epoch 148 / 200\n",
            "\n",
            "Training Loss: 0.040\n",
            "\n",
            " Epoch 149 / 200\n",
            "\n",
            "Training Loss: 0.047\n",
            "\n",
            " Epoch 150 / 200\n",
            "\n",
            "Training Loss: 0.057\n",
            "\n",
            " Epoch 151 / 200\n",
            "\n",
            "Training Loss: 0.058\n",
            "\n",
            " Epoch 152 / 200\n",
            "\n",
            "Training Loss: 0.060\n",
            "\n",
            " Epoch 153 / 200\n",
            "\n",
            "Training Loss: 0.048\n",
            "\n",
            " Epoch 154 / 200\n",
            "\n",
            "Training Loss: 0.091\n",
            "\n",
            " Epoch 155 / 200\n",
            "\n",
            "Training Loss: 0.033\n",
            "\n",
            " Epoch 156 / 200\n",
            "\n",
            "Training Loss: 0.080\n",
            "\n",
            " Epoch 157 / 200\n",
            "\n",
            "Training Loss: 0.056\n",
            "\n",
            " Epoch 158 / 200\n",
            "\n",
            "Training Loss: 0.018\n",
            "\n",
            " Epoch 159 / 200\n",
            "\n",
            "Training Loss: 0.051\n",
            "\n",
            " Epoch 160 / 200\n",
            "\n",
            "Training Loss: 0.023\n",
            "\n",
            " Epoch 161 / 200\n",
            "\n",
            "Training Loss: 0.090\n",
            "\n",
            " Epoch 162 / 200\n",
            "\n",
            "Training Loss: 0.042\n",
            "\n",
            " Epoch 163 / 200\n",
            "\n",
            "Training Loss: 0.026\n",
            "\n",
            " Epoch 164 / 200\n",
            "\n",
            "Training Loss: 0.034\n",
            "\n",
            " Epoch 165 / 200\n",
            "\n",
            "Training Loss: 0.071\n",
            "\n",
            " Epoch 166 / 200\n",
            "\n",
            "Training Loss: 0.017\n",
            "\n",
            " Epoch 167 / 200\n",
            "\n",
            "Training Loss: 0.042\n",
            "\n",
            " Epoch 168 / 200\n",
            "\n",
            "Training Loss: 0.045\n",
            "\n",
            " Epoch 169 / 200\n",
            "\n",
            "Training Loss: 0.069\n",
            "\n",
            " Epoch 170 / 200\n",
            "\n",
            "Training Loss: 0.042\n",
            "\n",
            " Epoch 171 / 200\n",
            "\n",
            "Training Loss: 0.046\n",
            "\n",
            " Epoch 172 / 200\n",
            "\n",
            "Training Loss: 0.023\n",
            "\n",
            " Epoch 173 / 200\n",
            "\n",
            "Training Loss: 0.034\n",
            "\n",
            " Epoch 174 / 200\n",
            "\n",
            "Training Loss: 0.031\n",
            "\n",
            " Epoch 175 / 200\n",
            "\n",
            "Training Loss: 0.034\n",
            "\n",
            " Epoch 176 / 200\n",
            "\n",
            "Training Loss: 0.066\n",
            "\n",
            " Epoch 177 / 200\n",
            "\n",
            "Training Loss: 0.037\n",
            "\n",
            " Epoch 178 / 200\n",
            "\n",
            "Training Loss: 0.062\n",
            "\n",
            " Epoch 179 / 200\n",
            "\n",
            "Training Loss: 0.059\n",
            "\n",
            " Epoch 180 / 200\n",
            "\n",
            "Training Loss: 0.038\n",
            "\n",
            " Epoch 181 / 200\n",
            "\n",
            "Training Loss: 0.021\n",
            "\n",
            " Epoch 182 / 200\n",
            "\n",
            "Training Loss: 0.034\n",
            "\n",
            " Epoch 183 / 200\n",
            "\n",
            "Training Loss: 0.036\n",
            "\n",
            " Epoch 184 / 200\n",
            "\n",
            "Training Loss: 0.030\n",
            "\n",
            " Epoch 185 / 200\n",
            "\n",
            "Training Loss: 0.021\n",
            "\n",
            " Epoch 186 / 200\n",
            "\n",
            "Training Loss: 0.030\n",
            "\n",
            " Epoch 187 / 200\n",
            "\n",
            "Training Loss: 0.058\n",
            "\n",
            " Epoch 188 / 200\n",
            "\n",
            "Training Loss: 0.106\n",
            "\n",
            " Epoch 189 / 200\n",
            "\n",
            "Training Loss: 0.040\n",
            "\n",
            " Epoch 190 / 200\n",
            "\n",
            "Training Loss: 0.055\n",
            "\n",
            " Epoch 191 / 200\n",
            "\n",
            "Training Loss: 0.069\n",
            "\n",
            " Epoch 192 / 200\n",
            "\n",
            "Training Loss: 0.039\n",
            "\n",
            " Epoch 193 / 200\n",
            "\n",
            "Training Loss: 0.052\n",
            "\n",
            " Epoch 194 / 200\n",
            "\n",
            "Training Loss: 0.113\n",
            "\n",
            " Epoch 195 / 200\n",
            "\n",
            "Training Loss: 0.062\n",
            "\n",
            " Epoch 196 / 200\n",
            "\n",
            "Training Loss: 0.007\n",
            "\n",
            " Epoch 197 / 200\n",
            "\n",
            "Training Loss: 0.035\n",
            "\n",
            " Epoch 198 / 200\n",
            "\n",
            "Training Loss: 0.021\n",
            "\n",
            " Epoch 199 / 200\n",
            "\n",
            "Training Loss: 0.025\n",
            "\n",
            " Epoch 200 / 200\n",
            "\n",
            "Training Loss: 0.031\n"
          ]
        }
      ],
      "source": [
        "for epoch in range(epochs):\n",
        "     \n",
        "    print('\\n Epoch {:} / {:}'.format(epoch + 1, epochs))\n",
        "    \n",
        "    #train model\n",
        "    train_loss, _ = train(train_dataloader)\n",
        "    \n",
        "    # append training and validation loss\n",
        "    train_losses.append(train_loss)   \n",
        "    # it can make your experiment reproducible, similar to set  random seed to all options where there needs a random seed.    torch.backends.cudnn.deterministic = True\n",
        "    torch.backends.cudnn.benchmark = False\n",
        "\n",
        "    print(f'\\nTraining Loss: {train_loss:.3f}')"
      ]
    },
    {
      "cell_type": "markdown",
      "metadata": {
        "id": "QMO6aAb6UQpU"
      },
      "source": [
        "## Saving the Lucy model"
      ]
    },
    {
      "cell_type": "code",
      "execution_count": 192,
      "metadata": {
        "id": "l4E8pZOhUKaZ"
      },
      "outputs": [],
      "source": [
        "PATH = \"lucy_distilbert.pth\"\n",
        "torch.save(model.state_dict(), PATH)"
      ]
    },
    {
      "cell_type": "markdown",
      "metadata": {
        "id": "TSJKLeFNVFkO"
      },
      "source": [
        "## Testing the Lucy"
      ]
    },
    {
      "cell_type": "code",
      "execution_count": 193,
      "metadata": {
        "id": "u1GmDrIzWNZF"
      },
      "outputs": [],
      "source": [
        "# TODO: Test LUCY on test dataset and evaluate different evalutaion metrics (eg: Confusion matrix, f1-score, etc)"
      ]
    },
    {
      "cell_type": "code",
      "execution_count": 194,
      "metadata": {
        "id": "oFW595viWNcV"
      },
      "outputs": [],
      "source": [
        "# TODO: Generate report"
      ]
    },
    {
      "cell_type": "markdown",
      "metadata": {
        "id": "HoCoqhWMWCx2"
      },
      "source": [
        "## Inference"
      ]
    },
    {
      "cell_type": "code",
      "execution_count": 195,
      "metadata": {
        "id": "t4Ag1zCM78N1"
      },
      "outputs": [],
      "source": [
        "def get_prediction(str):\n",
        " str = re.sub(r'[^a-zA-Z ]+', '', str)\n",
        " test_text = [str]\n",
        " model.eval()\n",
        " \n",
        " tokens_test_data = tokenizer(\n",
        "                  test_text,\n",
        "                  max_length = max_seq_len,\n",
        "                  padding=\"max_length\",\n",
        "                  truncation=True,\n",
        "                  return_token_type_ids=False\n",
        "                ) \n",
        " test_seq = torch.tensor(tokens_test_data['input_ids'])\n",
        " test_mask = torch.tensor(tokens_test_data['attention_mask'])\n",
        " \n",
        " preds = None\n",
        " with torch.no_grad():\n",
        "   preds = model(test_seq.to(device), test_mask.to(device))\n",
        "   \n",
        " preds = preds.detach().cpu().numpy()\n",
        " preds = np.argmax(preds, axis = 1)\n",
        " print(\"Intent Identified: \", le.inverse_transform(preds)[0])\n",
        " return le.inverse_transform(preds)[0]\n"
      ]
    },
    {
      "cell_type": "code",
      "execution_count": 196,
      "metadata": {
        "id": "hDndnd1r9PIF"
      },
      "outputs": [],
      "source": [
        "def get_response(intents_data, message): \n",
        "  intent = get_prediction(message)\n",
        "  for i in intents_data['intents']: \n",
        "     if i[\"tag\"] == intent:\n",
        "       result = random.choice(i[\"responses\"])\n",
        "       break\n",
        "  print(f\"Response : {result}\")\n",
        "  return \"Intent: \"+ intent + \"\\n\" + \"Response: \" + result"
      ]
    },
    {
      "cell_type": "code",
      "execution_count": 197,
      "metadata": {
        "colab": {
          "base_uri": "https://localhost:8080/",
          "height": 108
        },
        "id": "kQeSmzW29bJ1",
        "outputId": "c9dcc4d8-f461-4eb9-f57c-2cda3b0db4ed"
      },
      "outputs": [
        {
          "name": "stdout",
          "output_type": "stream",
          "text": [
            "Intent Identified:  location\n",
            "Response : Changunarayan, Bhaktapur, Nepal. For more details visit <a target=\"_blank\" href=\"https://nec.edu.np/index.php?option=com_content&view=article&id=300&Itemid=119\"> here</a>\n"
          ]
        },
        {
          "data": {
            "application/vnd.google.colaboratory.intrinsic+json": {
              "type": "string"
            },
            "text/plain": [
              "'Intent: location\\nResponse: Changunarayan, Bhaktapur, Nepal. For more details visit <a target=\"_blank\" href=\"https://nec.edu.np/index.php?option=com_content&view=article&id=300&Itemid=119\"> here</a>'"
            ]
          },
          "execution_count": 197,
          "metadata": {},
          "output_type": "execute_result"
        }
      ],
      "source": [
        "f = open('intents.json')\n",
        "data = json.load(f)\n",
        "\n",
        "\n",
        "get_response(data,\"Where is Nec?\")"
      ]
    },
    {
      "cell_type": "code",
      "execution_count": null,
      "metadata": {
        "id": "Ny95lCLpp8J_"
      },
      "outputs": [],
      "source": [
        "import json\n",
        "\n",
        "classes = le.classes_.tolist()\n",
        "filename = 'labels.json'\n",
        "with open(filename, 'w') as file_object:  \n",
        "  json.dump(classes, file_object)"
      ]
    }
  ],
  "metadata": {
    "accelerator": "GPU",
    "colab": {
      "collapsed_sections": [],
      "name": "chabot_train.ipynb",
      "provenance": []
    },
    "gpuClass": "standard",
    "kernelspec": {
      "display_name": "Python 3.10.5 64-bit",
      "language": "python",
      "name": "python3"
    },
    "language_info": {
      "name": "python",
      "version": "3.10.5"
    },
    "vscode": {
      "interpreter": {
        "hash": "e7370f93d1d0cde622a1f8e1c04877d8463912d04d973331ad4851f04de6915a"
      }
    }
  },
  "nbformat": 4,
  "nbformat_minor": 0
}
