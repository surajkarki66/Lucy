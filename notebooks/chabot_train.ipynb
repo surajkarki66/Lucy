{
  "cells": [
    {
      "cell_type": "markdown",
      "metadata": {
        "id": "AlMzAxzf85LG"
      },
      "source": [
        "## Installing libraries that are not in collab"
      ]
    },
    {
      "cell_type": "code",
      "execution_count": 272,
      "metadata": {
        "colab": {
          "base_uri": "https://localhost:8080/"
        },
        "id": "F1GyiO5g82qP",
        "outputId": "b902b5bb-cc8f-4c3e-fe29-bbc048e6ff4b"
      },
      "outputs": [
        {
          "output_type": "stream",
          "name": "stdout",
          "text": [
            "Looking in indexes: https://pypi.org/simple, https://us-python.pkg.dev/colab-wheels/public/simple/\n",
            "Requirement already satisfied: transformers in /usr/local/lib/python3.7/dist-packages (4.21.3)\n",
            "Requirement already satisfied: numpy>=1.17 in /usr/local/lib/python3.7/dist-packages (from transformers) (1.21.6)\n",
            "Requirement already satisfied: filelock in /usr/local/lib/python3.7/dist-packages (from transformers) (3.8.0)\n",
            "Requirement already satisfied: importlib-metadata in /usr/local/lib/python3.7/dist-packages (from transformers) (4.12.0)\n",
            "Requirement already satisfied: tqdm>=4.27 in /usr/local/lib/python3.7/dist-packages (from transformers) (4.64.1)\n",
            "Requirement already satisfied: huggingface-hub<1.0,>=0.1.0 in /usr/local/lib/python3.7/dist-packages (from transformers) (0.9.1)\n",
            "Requirement already satisfied: packaging>=20.0 in /usr/local/lib/python3.7/dist-packages (from transformers) (21.3)\n",
            "Requirement already satisfied: pyyaml>=5.1 in /usr/local/lib/python3.7/dist-packages (from transformers) (6.0)\n",
            "Requirement already satisfied: regex!=2019.12.17 in /usr/local/lib/python3.7/dist-packages (from transformers) (2022.6.2)\n",
            "Requirement already satisfied: requests in /usr/local/lib/python3.7/dist-packages (from transformers) (2.23.0)\n",
            "Requirement already satisfied: tokenizers!=0.11.3,<0.13,>=0.11.1 in /usr/local/lib/python3.7/dist-packages (from transformers) (0.12.1)\n",
            "Requirement already satisfied: typing-extensions>=3.7.4.3 in /usr/local/lib/python3.7/dist-packages (from huggingface-hub<1.0,>=0.1.0->transformers) (4.1.1)\n",
            "Requirement already satisfied: pyparsing!=3.0.5,>=2.0.2 in /usr/local/lib/python3.7/dist-packages (from packaging>=20.0->transformers) (3.0.9)\n",
            "Requirement already satisfied: zipp>=0.5 in /usr/local/lib/python3.7/dist-packages (from importlib-metadata->transformers) (3.8.1)\n",
            "Requirement already satisfied: chardet<4,>=3.0.2 in /usr/local/lib/python3.7/dist-packages (from requests->transformers) (3.0.4)\n",
            "Requirement already satisfied: idna<3,>=2.5 in /usr/local/lib/python3.7/dist-packages (from requests->transformers) (2.10)\n",
            "Requirement already satisfied: urllib3!=1.25.0,!=1.25.1,<1.26,>=1.21.1 in /usr/local/lib/python3.7/dist-packages (from requests->transformers) (1.24.3)\n",
            "Requirement already satisfied: certifi>=2017.4.17 in /usr/local/lib/python3.7/dist-packages (from requests->transformers) (2022.6.15)\n",
            "Looking in indexes: https://pypi.org/simple, https://us-python.pkg.dev/colab-wheels/public/simple/\n",
            "Requirement already satisfied: torchinfo in /usr/local/lib/python3.7/dist-packages (1.7.0)\n"
          ]
        }
      ],
      "source": [
        "# Install Transformers\n",
        "!pip install transformers\n",
        "# To get model summary\n",
        "!pip install torchinfo"
      ]
    },
    {
      "cell_type": "code",
      "execution_count": 273,
      "metadata": {
        "colab": {
          "base_uri": "https://localhost:8080/"
        },
        "id": "g77unx2iZQpn",
        "outputId": "d3178e3d-3d4b-4e5a-e5b0-b5a39b1cf1c7"
      },
      "outputs": [
        {
          "output_type": "stream",
          "name": "stdout",
          "text": [
            "intents.json  output.png    test_data.csv\n",
            "labels.json   \u001b[0m\u001b[01;34msample_data\u001b[0m/  train_data.csv\n"
          ]
        }
      ],
      "source": [
        "ls"
      ]
    },
    {
      "cell_type": "markdown",
      "metadata": {
        "id": "_qNtYUn59fmv"
      },
      "source": [
        "## Import Libraries\n",
        "Importing the libraries that are required to perform operations on the dataset."
      ]
    },
    {
      "cell_type": "code",
      "execution_count": 274,
      "metadata": {
        "id": "lcd95yGizoBp"
      },
      "outputs": [],
      "source": [
        "import json\n",
        "import numpy as np\n",
        "import pandas as pd\n",
        "import re\n",
        "import torch\n",
        "import random\n",
        "import torch.nn as nn\n",
        "import transformers\n",
        "import seaborn as sn\n",
        "import matplotlib.pyplot as plt\n",
        "\n",
        "from sklearn.preprocessing import LabelEncoder\n",
        "from torchinfo import summary\n",
        "from sklearn.metrics import confusion_matrix, classification_report,f1_score\n",
        "from sklearn.utils.class_weight import compute_class_weight\n",
        "from transformers import DistilBertTokenizer, DistilBertModel, RobertaTokenizer, RobertaModel, AutoModel, BertTokenizerFast\n",
        "from torch.utils.data import TensorDataset, DataLoader, RandomSampler, SequentialSampler\n",
        "\n",
        "device = \"cuda\" if torch.cuda.is_available() else \"cpu\""
      ]
    },
    {
      "cell_type": "markdown",
      "metadata": {
        "id": "JVv8Ibb3__ak"
      },
      "source": [
        "## Data preprocessing\n",
        "Doing required processing of data."
      ]
    },
    {
      "cell_type": "code",
      "execution_count": 275,
      "metadata": {
        "id": "xXGTNut8ZdM2"
      },
      "outputs": [],
      "source": [
        "df_train = pd.read_csv(\"train_data.csv\")\n",
        "df_test = pd.read_csv(\"test_data.csv\")"
      ]
    },
    {
      "cell_type": "code",
      "execution_count": 276,
      "metadata": {
        "colab": {
          "base_uri": "https://localhost:8080/",
          "height": 206
        },
        "id": "kUCJytQf-tiW",
        "outputId": "6ab268d4-14c7-402f-cbe9-2e584ba18b06"
      },
      "outputs": [
        {
          "output_type": "execute_result",
          "data": {
            "text/plain": [
              "               text    intent\n",
              "0                Hi  greeting\n",
              "1       How are you  greeting\n",
              "2  Is anyone there?  greeting\n",
              "3             Hello  greeting\n",
              "4          Good day  greeting"
            ],
            "text/html": [
              "\n",
              "  <div id=\"df-9af54f06-90ad-4762-83dc-e427c17a5cac\">\n",
              "    <div class=\"colab-df-container\">\n",
              "      <div>\n",
              "<style scoped>\n",
              "    .dataframe tbody tr th:only-of-type {\n",
              "        vertical-align: middle;\n",
              "    }\n",
              "\n",
              "    .dataframe tbody tr th {\n",
              "        vertical-align: top;\n",
              "    }\n",
              "\n",
              "    .dataframe thead th {\n",
              "        text-align: right;\n",
              "    }\n",
              "</style>\n",
              "<table border=\"1\" class=\"dataframe\">\n",
              "  <thead>\n",
              "    <tr style=\"text-align: right;\">\n",
              "      <th></th>\n",
              "      <th>text</th>\n",
              "      <th>intent</th>\n",
              "    </tr>\n",
              "  </thead>\n",
              "  <tbody>\n",
              "    <tr>\n",
              "      <th>0</th>\n",
              "      <td>Hi</td>\n",
              "      <td>greeting</td>\n",
              "    </tr>\n",
              "    <tr>\n",
              "      <th>1</th>\n",
              "      <td>How are you</td>\n",
              "      <td>greeting</td>\n",
              "    </tr>\n",
              "    <tr>\n",
              "      <th>2</th>\n",
              "      <td>Is anyone there?</td>\n",
              "      <td>greeting</td>\n",
              "    </tr>\n",
              "    <tr>\n",
              "      <th>3</th>\n",
              "      <td>Hello</td>\n",
              "      <td>greeting</td>\n",
              "    </tr>\n",
              "    <tr>\n",
              "      <th>4</th>\n",
              "      <td>Good day</td>\n",
              "      <td>greeting</td>\n",
              "    </tr>\n",
              "  </tbody>\n",
              "</table>\n",
              "</div>\n",
              "      <button class=\"colab-df-convert\" onclick=\"convertToInteractive('df-9af54f06-90ad-4762-83dc-e427c17a5cac')\"\n",
              "              title=\"Convert this dataframe to an interactive table.\"\n",
              "              style=\"display:none;\">\n",
              "        \n",
              "  <svg xmlns=\"http://www.w3.org/2000/svg\" height=\"24px\"viewBox=\"0 0 24 24\"\n",
              "       width=\"24px\">\n",
              "    <path d=\"M0 0h24v24H0V0z\" fill=\"none\"/>\n",
              "    <path d=\"M18.56 5.44l.94 2.06.94-2.06 2.06-.94-2.06-.94-.94-2.06-.94 2.06-2.06.94zm-11 1L8.5 8.5l.94-2.06 2.06-.94-2.06-.94L8.5 2.5l-.94 2.06-2.06.94zm10 10l.94 2.06.94-2.06 2.06-.94-2.06-.94-.94-2.06-.94 2.06-2.06.94z\"/><path d=\"M17.41 7.96l-1.37-1.37c-.4-.4-.92-.59-1.43-.59-.52 0-1.04.2-1.43.59L10.3 9.45l-7.72 7.72c-.78.78-.78 2.05 0 2.83L4 21.41c.39.39.9.59 1.41.59.51 0 1.02-.2 1.41-.59l7.78-7.78 2.81-2.81c.8-.78.8-2.07 0-2.86zM5.41 20L4 18.59l7.72-7.72 1.47 1.35L5.41 20z\"/>\n",
              "  </svg>\n",
              "      </button>\n",
              "      \n",
              "  <style>\n",
              "    .colab-df-container {\n",
              "      display:flex;\n",
              "      flex-wrap:wrap;\n",
              "      gap: 12px;\n",
              "    }\n",
              "\n",
              "    .colab-df-convert {\n",
              "      background-color: #E8F0FE;\n",
              "      border: none;\n",
              "      border-radius: 50%;\n",
              "      cursor: pointer;\n",
              "      display: none;\n",
              "      fill: #1967D2;\n",
              "      height: 32px;\n",
              "      padding: 0 0 0 0;\n",
              "      width: 32px;\n",
              "    }\n",
              "\n",
              "    .colab-df-convert:hover {\n",
              "      background-color: #E2EBFA;\n",
              "      box-shadow: 0px 1px 2px rgba(60, 64, 67, 0.3), 0px 1px 3px 1px rgba(60, 64, 67, 0.15);\n",
              "      fill: #174EA6;\n",
              "    }\n",
              "\n",
              "    [theme=dark] .colab-df-convert {\n",
              "      background-color: #3B4455;\n",
              "      fill: #D2E3FC;\n",
              "    }\n",
              "\n",
              "    [theme=dark] .colab-df-convert:hover {\n",
              "      background-color: #434B5C;\n",
              "      box-shadow: 0px 1px 3px 1px rgba(0, 0, 0, 0.15);\n",
              "      filter: drop-shadow(0px 1px 2px rgba(0, 0, 0, 0.3));\n",
              "      fill: #FFFFFF;\n",
              "    }\n",
              "  </style>\n",
              "\n",
              "      <script>\n",
              "        const buttonEl =\n",
              "          document.querySelector('#df-9af54f06-90ad-4762-83dc-e427c17a5cac button.colab-df-convert');\n",
              "        buttonEl.style.display =\n",
              "          google.colab.kernel.accessAllowed ? 'block' : 'none';\n",
              "\n",
              "        async function convertToInteractive(key) {\n",
              "          const element = document.querySelector('#df-9af54f06-90ad-4762-83dc-e427c17a5cac');\n",
              "          const dataTable =\n",
              "            await google.colab.kernel.invokeFunction('convertToInteractive',\n",
              "                                                     [key], {});\n",
              "          if (!dataTable) return;\n",
              "\n",
              "          const docLinkHtml = 'Like what you see? Visit the ' +\n",
              "            '<a target=\"_blank\" href=https://colab.research.google.com/notebooks/data_table.ipynb>data table notebook</a>'\n",
              "            + ' to learn more about interactive tables.';\n",
              "          element.innerHTML = '';\n",
              "          dataTable['output_type'] = 'display_data';\n",
              "          await google.colab.output.renderOutput(dataTable, element);\n",
              "          const docLink = document.createElement('div');\n",
              "          docLink.innerHTML = docLinkHtml;\n",
              "          element.appendChild(docLink);\n",
              "        }\n",
              "      </script>\n",
              "    </div>\n",
              "  </div>\n",
              "  "
            ]
          },
          "metadata": {},
          "execution_count": 276
        }
      ],
      "source": [
        "df_train.head()"
      ]
    },
    {
      "cell_type": "code",
      "execution_count": 277,
      "metadata": {
        "colab": {
          "base_uri": "https://localhost:8080/",
          "height": 206
        },
        "id": "wMA3JNoG_Dq5",
        "outputId": "6dee4c33-fc44-48ad-9724-8f08bc4dc5b0"
      },
      "outputs": [
        {
          "output_type": "execute_result",
          "data": {
            "text/plain": [
              "               text    intent\n",
              "0                Hi  greeting\n",
              "1       How are you  greeting\n",
              "2  Is anyone there?  greeting\n",
              "3             Hello  greeting\n",
              "4          Good day  greeting"
            ],
            "text/html": [
              "\n",
              "  <div id=\"df-c251c092-f602-4c7f-a584-0ed521b76eba\">\n",
              "    <div class=\"colab-df-container\">\n",
              "      <div>\n",
              "<style scoped>\n",
              "    .dataframe tbody tr th:only-of-type {\n",
              "        vertical-align: middle;\n",
              "    }\n",
              "\n",
              "    .dataframe tbody tr th {\n",
              "        vertical-align: top;\n",
              "    }\n",
              "\n",
              "    .dataframe thead th {\n",
              "        text-align: right;\n",
              "    }\n",
              "</style>\n",
              "<table border=\"1\" class=\"dataframe\">\n",
              "  <thead>\n",
              "    <tr style=\"text-align: right;\">\n",
              "      <th></th>\n",
              "      <th>text</th>\n",
              "      <th>intent</th>\n",
              "    </tr>\n",
              "  </thead>\n",
              "  <tbody>\n",
              "    <tr>\n",
              "      <th>0</th>\n",
              "      <td>Hi</td>\n",
              "      <td>greeting</td>\n",
              "    </tr>\n",
              "    <tr>\n",
              "      <th>1</th>\n",
              "      <td>How are you</td>\n",
              "      <td>greeting</td>\n",
              "    </tr>\n",
              "    <tr>\n",
              "      <th>2</th>\n",
              "      <td>Is anyone there?</td>\n",
              "      <td>greeting</td>\n",
              "    </tr>\n",
              "    <tr>\n",
              "      <th>3</th>\n",
              "      <td>Hello</td>\n",
              "      <td>greeting</td>\n",
              "    </tr>\n",
              "    <tr>\n",
              "      <th>4</th>\n",
              "      <td>Good day</td>\n",
              "      <td>greeting</td>\n",
              "    </tr>\n",
              "  </tbody>\n",
              "</table>\n",
              "</div>\n",
              "      <button class=\"colab-df-convert\" onclick=\"convertToInteractive('df-c251c092-f602-4c7f-a584-0ed521b76eba')\"\n",
              "              title=\"Convert this dataframe to an interactive table.\"\n",
              "              style=\"display:none;\">\n",
              "        \n",
              "  <svg xmlns=\"http://www.w3.org/2000/svg\" height=\"24px\"viewBox=\"0 0 24 24\"\n",
              "       width=\"24px\">\n",
              "    <path d=\"M0 0h24v24H0V0z\" fill=\"none\"/>\n",
              "    <path d=\"M18.56 5.44l.94 2.06.94-2.06 2.06-.94-2.06-.94-.94-2.06-.94 2.06-2.06.94zm-11 1L8.5 8.5l.94-2.06 2.06-.94-2.06-.94L8.5 2.5l-.94 2.06-2.06.94zm10 10l.94 2.06.94-2.06 2.06-.94-2.06-.94-.94-2.06-.94 2.06-2.06.94z\"/><path d=\"M17.41 7.96l-1.37-1.37c-.4-.4-.92-.59-1.43-.59-.52 0-1.04.2-1.43.59L10.3 9.45l-7.72 7.72c-.78.78-.78 2.05 0 2.83L4 21.41c.39.39.9.59 1.41.59.51 0 1.02-.2 1.41-.59l7.78-7.78 2.81-2.81c.8-.78.8-2.07 0-2.86zM5.41 20L4 18.59l7.72-7.72 1.47 1.35L5.41 20z\"/>\n",
              "  </svg>\n",
              "      </button>\n",
              "      \n",
              "  <style>\n",
              "    .colab-df-container {\n",
              "      display:flex;\n",
              "      flex-wrap:wrap;\n",
              "      gap: 12px;\n",
              "    }\n",
              "\n",
              "    .colab-df-convert {\n",
              "      background-color: #E8F0FE;\n",
              "      border: none;\n",
              "      border-radius: 50%;\n",
              "      cursor: pointer;\n",
              "      display: none;\n",
              "      fill: #1967D2;\n",
              "      height: 32px;\n",
              "      padding: 0 0 0 0;\n",
              "      width: 32px;\n",
              "    }\n",
              "\n",
              "    .colab-df-convert:hover {\n",
              "      background-color: #E2EBFA;\n",
              "      box-shadow: 0px 1px 2px rgba(60, 64, 67, 0.3), 0px 1px 3px 1px rgba(60, 64, 67, 0.15);\n",
              "      fill: #174EA6;\n",
              "    }\n",
              "\n",
              "    [theme=dark] .colab-df-convert {\n",
              "      background-color: #3B4455;\n",
              "      fill: #D2E3FC;\n",
              "    }\n",
              "\n",
              "    [theme=dark] .colab-df-convert:hover {\n",
              "      background-color: #434B5C;\n",
              "      box-shadow: 0px 1px 3px 1px rgba(0, 0, 0, 0.15);\n",
              "      filter: drop-shadow(0px 1px 2px rgba(0, 0, 0, 0.3));\n",
              "      fill: #FFFFFF;\n",
              "    }\n",
              "  </style>\n",
              "\n",
              "      <script>\n",
              "        const buttonEl =\n",
              "          document.querySelector('#df-c251c092-f602-4c7f-a584-0ed521b76eba button.colab-df-convert');\n",
              "        buttonEl.style.display =\n",
              "          google.colab.kernel.accessAllowed ? 'block' : 'none';\n",
              "\n",
              "        async function convertToInteractive(key) {\n",
              "          const element = document.querySelector('#df-c251c092-f602-4c7f-a584-0ed521b76eba');\n",
              "          const dataTable =\n",
              "            await google.colab.kernel.invokeFunction('convertToInteractive',\n",
              "                                                     [key], {});\n",
              "          if (!dataTable) return;\n",
              "\n",
              "          const docLinkHtml = 'Like what you see? Visit the ' +\n",
              "            '<a target=\"_blank\" href=https://colab.research.google.com/notebooks/data_table.ipynb>data table notebook</a>'\n",
              "            + ' to learn more about interactive tables.';\n",
              "          element.innerHTML = '';\n",
              "          dataTable['output_type'] = 'display_data';\n",
              "          await google.colab.output.renderOutput(dataTable, element);\n",
              "          const docLink = document.createElement('div');\n",
              "          docLink.innerHTML = docLinkHtml;\n",
              "          element.appendChild(docLink);\n",
              "        }\n",
              "      </script>\n",
              "    </div>\n",
              "  </div>\n",
              "  "
            ]
          },
          "metadata": {},
          "execution_count": 277
        }
      ],
      "source": [
        "df_test.head()"
      ]
    },
    {
      "cell_type": "code",
      "source": [
        "len_labels = len(df_train.intent.unique())"
      ],
      "metadata": {
        "id": "x1fTJHSjOp3d"
      },
      "execution_count": 278,
      "outputs": []
    },
    {
      "cell_type": "code",
      "execution_count": 279,
      "metadata": {
        "colab": {
          "base_uri": "https://localhost:8080/"
        },
        "id": "_MaQ9ddSZfwr",
        "outputId": "6c21280d-3c42-446e-878e-61e5e7c64933"
      },
      "outputs": [
        {
          "output_type": "execute_result",
          "data": {
            "text/plain": [
              "course            34\n",
              "fees              32\n",
              "hostel            22\n",
              "fest              21\n",
              "scholarship       20\n",
              "faculty           20\n",
              "creator           18\n",
              "hours             17\n",
              "goodbye           17\n",
              "location          16\n",
              "name              15\n",
              "number            15\n",
              "document          13\n",
              "salutation        12\n",
              "library           12\n",
              "admission         12\n",
              "event             11\n",
              "infrastructure    11\n",
              "greeting          10\n",
              "canteen           10\n",
              "student portal     9\n",
              "college intake     9\n",
              "uniform            9\n",
              "swear              9\n",
              "placement          8\n",
              "ragging            8\n",
              "faculty portal     7\n",
              "sports             7\n",
              "transport          7\n",
              "principal          7\n",
              "syllabus           7\n",
              "task               6\n",
              "facilities         5\n",
              "menu               5\n",
              "csehod             4\n",
              "hod                3\n",
              "random             3\n",
              "other              1\n",
              "Name: intent, dtype: int64"
            ]
          },
          "metadata": {},
          "execution_count": 279
        }
      ],
      "source": [
        "df_train[\"intent\"].value_counts()"
      ]
    },
    {
      "cell_type": "code",
      "execution_count": 280,
      "metadata": {
        "colab": {
          "base_uri": "https://localhost:8080/"
        },
        "id": "HFLpyTIJ_UTA",
        "outputId": "eefd5209-01e5-4fa0-aa76-2946a8844c78"
      },
      "outputs": [
        {
          "output_type": "execute_result",
          "data": {
            "text/plain": [
              "course            34\n",
              "fees              32\n",
              "hostel            22\n",
              "fest              21\n",
              "scholarship       20\n",
              "faculty           20\n",
              "creator           18\n",
              "hours             17\n",
              "goodbye           17\n",
              "location          16\n",
              "name              15\n",
              "number            15\n",
              "document          13\n",
              "salutation        12\n",
              "library           12\n",
              "admission         12\n",
              "event             11\n",
              "infrastructure    11\n",
              "greeting          10\n",
              "canteen           10\n",
              "student portal     9\n",
              "college intake     9\n",
              "uniform            9\n",
              "swear              9\n",
              "placement          8\n",
              "ragging            8\n",
              "faculty portal     7\n",
              "sports             7\n",
              "transport          7\n",
              "principal          7\n",
              "syllabus           7\n",
              "task               6\n",
              "facilities         5\n",
              "menu               5\n",
              "csehod             4\n",
              "hod                3\n",
              "random             3\n",
              "other              1\n",
              "Name: intent, dtype: int64"
            ]
          },
          "metadata": {},
          "execution_count": 280
        }
      ],
      "source": [
        "df_test[\"intent\"].value_counts()"
      ]
    },
    {
      "cell_type": "code",
      "execution_count": 281,
      "metadata": {
        "id": "fKgjS4GyZjYG"
      },
      "outputs": [],
      "source": [
        "# Converting the labels into encodings\n",
        "le = LabelEncoder()\n",
        "df_test['intent'] = le.fit_transform(df_test['intent'])\n",
        "df_train['intent'] = le.fit_transform(df_train['intent'])"
      ]
    },
    {
      "cell_type": "code",
      "execution_count": 282,
      "metadata": {
        "colab": {
          "base_uri": "https://localhost:8080/"
        },
        "id": "f4c8mgQT_nAn",
        "outputId": "a5d771db-fd61-478f-db64-02c45ab60ad1"
      },
      "outputs": [
        {
          "output_type": "execute_result",
          "data": {
            "text/plain": [
              "3     0.075221\n",
              "11    0.070796\n",
              "16    0.048673\n",
              "12    0.046460\n",
              "30    0.044248\n",
              "9     0.044248\n",
              "4     0.039823\n",
              "17    0.037611\n",
              "13    0.037611\n",
              "20    0.035398\n",
              "22    0.033186\n",
              "23    0.033186\n",
              "6     0.028761\n",
              "29    0.026549\n",
              "19    0.026549\n",
              "0     0.026549\n",
              "7     0.024336\n",
              "18    0.024336\n",
              "14    0.022124\n",
              "1     0.022124\n",
              "32    0.019912\n",
              "2     0.019912\n",
              "37    0.019912\n",
              "33    0.019912\n",
              "25    0.017699\n",
              "27    0.017699\n",
              "10    0.015487\n",
              "31    0.015487\n",
              "36    0.015487\n",
              "26    0.015487\n",
              "34    0.015487\n",
              "35    0.013274\n",
              "8     0.011062\n",
              "21    0.011062\n",
              "5     0.008850\n",
              "15    0.006637\n",
              "28    0.006637\n",
              "24    0.002212\n",
              "Name: intent, dtype: float64"
            ]
          },
          "metadata": {},
          "execution_count": 282
        }
      ],
      "source": [
        "# check class distribution\n",
        "df_train['intent'].value_counts(normalize = True)"
      ]
    },
    {
      "cell_type": "code",
      "execution_count": 283,
      "metadata": {
        "colab": {
          "base_uri": "https://localhost:8080/"
        },
        "id": "_vVKJQPE_nIl",
        "outputId": "835c183f-31dd-482b-a93b-2c909d8ea784"
      },
      "outputs": [
        {
          "output_type": "execute_result",
          "data": {
            "text/plain": [
              "3     0.075221\n",
              "11    0.070796\n",
              "16    0.048673\n",
              "12    0.046460\n",
              "30    0.044248\n",
              "9     0.044248\n",
              "4     0.039823\n",
              "17    0.037611\n",
              "13    0.037611\n",
              "20    0.035398\n",
              "22    0.033186\n",
              "23    0.033186\n",
              "6     0.028761\n",
              "29    0.026549\n",
              "19    0.026549\n",
              "0     0.026549\n",
              "7     0.024336\n",
              "18    0.024336\n",
              "14    0.022124\n",
              "1     0.022124\n",
              "32    0.019912\n",
              "2     0.019912\n",
              "37    0.019912\n",
              "33    0.019912\n",
              "25    0.017699\n",
              "27    0.017699\n",
              "10    0.015487\n",
              "31    0.015487\n",
              "36    0.015487\n",
              "26    0.015487\n",
              "34    0.015487\n",
              "35    0.013274\n",
              "8     0.011062\n",
              "21    0.011062\n",
              "5     0.008850\n",
              "15    0.006637\n",
              "28    0.006637\n",
              "24    0.002212\n",
              "Name: intent, dtype: float64"
            ]
          },
          "metadata": {},
          "execution_count": 283
        }
      ],
      "source": [
        "# check class distribution\n",
        "df_test['intent'].value_counts(normalize = True)"
      ]
    },
    {
      "cell_type": "code",
      "execution_count": 284,
      "metadata": {
        "id": "rdMCJmjsZ4ah"
      },
      "outputs": [],
      "source": [
        "# In this example we have used all the utterances for training purpose\n",
        "train_text, train_labels = df_train[\"text\"], df_train[\"intent\"]\n",
        "test_text, test_labels = df_test[\"text\"], df_test[\"intent\"]\n"
      ]
    },
    {
      "cell_type": "markdown",
      "metadata": {
        "id": "IdYQQL1AEG7v"
      },
      "source": [
        "### Load Tokenizer"
      ]
    },
    {
      "cell_type": "code",
      "execution_count": 285,
      "metadata": {
        "id": "QBb_-DUDa6dA"
      },
      "outputs": [],
      "source": [
        "def load_tokenizer(model=\"bert\"):\n",
        "  tokenizer = None\n",
        "  if model == \"bert\":\n",
        "    # Load the BERT tokenizer\n",
        "    tokenizer = BertTokenizerFast.from_pretrained(\"bert-base-uncased\")\n",
        "  if model == \"roberta\":\n",
        "    # Load the Roberta tokenizer\n",
        "    tokenizer = RobertaTokenizer.from_pretrained(\"roberta-base\")\n",
        "  if model == \"distilbert\":\n",
        "    # Load the DistilBert tokenizer\n",
        "    tokenizer = DistilBertTokenizer.from_pretrained(\"distilbert-base-uncased\")\n",
        "\n",
        "  return tokenizer"
      ]
    },
    {
      "cell_type": "code",
      "execution_count": 286,
      "metadata": {
        "colab": {
          "base_uri": "https://localhost:8080/",
          "height": 265
        },
        "id": "IczS5o5PbEM0",
        "outputId": "1f9b3bd0-09c0-4159-8522-9e0d7259ac28"
      },
      "outputs": [
        {
          "output_type": "display_data",
          "data": {
            "text/plain": [
              "<Figure size 432x288 with 1 Axes>"
            ],
            "image/png": "[encoded data removed]"
          },
          "metadata": {
            "needs_background": "light"
          }
        }
      ],
      "source": [
        "# get length of all the messages in the train set\n",
        "seq_len = [len(i.split()) for i in train_text]\n",
        "\n",
        "pd.Series(seq_len).hist(bins = 10)\n",
        "\n",
        "# Based on the histogram we are selecting the max len as 9\n",
        "max_seq_len = 9"
      ]
    },
    {
      "cell_type": "code",
      "execution_count": 287,
      "metadata": {
        "id": "XTeYcVbMA2y7"
      },
      "outputs": [],
      "source": [
        "def get_tokenized_data(model=\"bert\"):\n",
        "  tokenizer = load_tokenizer(model=model)\n",
        "  # tokenize and encode sequences in the training set\n",
        "  tokens_train = tokenizer(\n",
        "      train_text.tolist(),\n",
        "      max_length = max_seq_len,\n",
        "      padding=\"max_length\",\n",
        "      truncation=True,\n",
        "      return_token_type_ids=False\n",
        "                    )\n",
        "  # tokenize and encode sequences in the testing set\n",
        "  tokens_test = tokenizer(\n",
        "      test_text.tolist(),\n",
        "      max_length = max_seq_len,\n",
        "      padding=\"max_length\",\n",
        "      truncation=True,\n",
        "      return_token_type_ids=False\n",
        "  )\n",
        "  return tokens_train, tokens_test"
      ]
    },
    {
      "cell_type": "code",
      "source": [
        "tokens_train, tokens_test = get_tokenized_data()"
      ],
      "metadata": {
        "id": "QU0nn0J90ceM"
      },
      "execution_count": 288,
      "outputs": []
    },
    {
      "cell_type": "code",
      "execution_count": 289,
      "metadata": {
        "id": "5DA9oMP7BKAh"
      },
      "outputs": [],
      "source": [
        "# for train set\n",
        "train_seq = torch.tensor(tokens_train['input_ids'])\n",
        "train_mask = torch.tensor(tokens_train['attention_mask'])\n",
        "train_y = torch.tensor(train_labels.tolist())"
      ]
    },
    {
      "cell_type": "code",
      "execution_count": 290,
      "metadata": {
        "id": "8EgRGwlLBOL9"
      },
      "outputs": [],
      "source": [
        "# for test set\n",
        "test_seq = torch.tensor(tokens_test['input_ids'])\n",
        "test_mask = torch.tensor(tokens_test['attention_mask'])\n",
        "test_y = torch.tensor(test_labels.tolist())"
      ]
    },
    {
      "cell_type": "markdown",
      "metadata": {
        "id": "eyJSES60BuoU"
      },
      "source": [
        "## Setting Up models parameters"
      ]
    },
    {
      "cell_type": "code",
      "execution_count": 351,
      "metadata": {
        "id": "bRoPXZzpBOPP"
      },
      "outputs": [],
      "source": [
        "# Define a batch size\n",
        "batch_size = 16\n",
        "\n",
        "# wrap tensors\n",
        "train_data = TensorDataset(train_seq, train_mask, train_y)\n",
        "test_data = TensorDataset(test_seq, test_mask, test_y)\n",
        "\n",
        "# sampler for sampling the data during training\n",
        "train_sampler = RandomSampler(train_data)\n",
        "\n",
        "# DataLoader for train set and test set\n",
        "train_dataloader = DataLoader(train_data, sampler=train_sampler, batch_size=batch_size)\n",
        "test_dataloader = DataLoader(test_data, batch_size=batch_size)"
      ]
    },
    {
      "cell_type": "markdown",
      "metadata": {
        "id": "5aApHadiDC35"
      },
      "source": [
        "## Building our Lucy Model\n",
        "To build lucy we are going to use pretrained Model and our own model."
      ]
    },
    {
      "cell_type": "markdown",
      "metadata": {
        "id": "jYXiiJvQDt98"
      },
      "source": [
        "### 1) Lucy layer"
      ]
    },
    {
      "cell_type": "code",
      "execution_count": 292,
      "metadata": {
        "id": "vIM5xazM19ZQ"
      },
      "outputs": [],
      "source": [
        "class Lucy(nn.Module):\n",
        "  def __init__(self, pretrained_model):      \n",
        "       super(Lucy, self).__init__()       \n",
        "       self.pretrained_model = pretrained_model \n",
        "      \n",
        "       # dropout layer\n",
        "       self.dropout = nn.Dropout(0.2)\n",
        "      \n",
        "       # relu activation function\n",
        "       self.relu =  nn.ReLU()     \n",
        "\n",
        "       # dense layer       \n",
        "       self.fc1 = nn.Linear(768,512)       \n",
        "       self.fc2 = nn.Linear(512,256)       \n",
        "       self.fc3 = nn.Linear(256,len_labels)    \n",
        "\n",
        "       #softmax activation function\n",
        "       self.softmax = nn.LogSoftmax(dim=1)      \n",
        "      \n",
        "  #define the forward pass\n",
        "  def forward(self, sent_id, mask):      \n",
        "      #pass the inputs to the model  \n",
        "      cls_hs = self.pretrained_model(sent_id, attention_mask=mask)[0][:,0]\n",
        "      \n",
        "      x = self.fc1(cls_hs)\n",
        "      x = self.relu(x)\n",
        "      x = self.dropout(x)\n",
        "      \n",
        "      x = self.fc2(x)\n",
        "      x = self.relu(x)\n",
        "      x = self.dropout(x)      \n",
        "\n",
        "      # output layer\n",
        "      x = self.fc3(x)\n",
        "   \n",
        "      # apply softmax activation\n",
        "      x = self.softmax(x)     \n",
        "      return x"
      ]
    },
    {
      "cell_type": "markdown",
      "source": [
        "### 2) Pretrained layer + Lucy layer"
      ],
      "metadata": {
        "id": "1mbHuzRhPnHW"
      }
    },
    {
      "cell_type": "code",
      "source": [
        "def lucy_model(device,model=\"bert\"):\n",
        "  pretrained_model = None\n",
        "  if model == \"bert\":\n",
        "    # Import BERT-base pretrained model\n",
        "    pretrained_model = AutoModel.from_pretrained(\"bert-base-uncased\")\n",
        "\n",
        "  if model == \"roberta\":\n",
        "    # Import Roberta pretrained model\n",
        "    pretrained_model = RobertaModel.from_pretrained(\"roberta-base\")\n",
        "\n",
        "  if model == \"distilbert\":\n",
        "    # Import the DistilBert pretrained model\n",
        "    pretrained_model = DistilBertModel.from_pretrained(\"distilbert-base-uncased\")\n",
        "\n",
        "  # freeze all the parameters. This will prevent updating of model weights during fine-tuning.\n",
        "  for param in pretrained_model.parameters():\n",
        "        param.requires_grad = False\n",
        "\n",
        "  lucy = Lucy(pretrained_model)\n",
        "\n",
        "  # push the model to GPU or CPU\n",
        "  lucy = lucy.to(device)\n",
        "\n",
        "  return lucy"
      ],
      "metadata": {
        "id": "VkMxUs-JwrgD"
      },
      "execution_count": 293,
      "outputs": []
    },
    {
      "cell_type": "markdown",
      "source": [
        "#### i) BERT"
      ],
      "metadata": {
        "id": "haFiaQzpQNtS"
      }
    },
    {
      "cell_type": "code",
      "execution_count": 294,
      "metadata": {
        "colab": {
          "base_uri": "https://localhost:8080/"
        },
        "id": "92Z7fRNU3KrT",
        "outputId": "38c72bdf-488e-4a36-ac1b-4730759d58fa"
      },
      "outputs": [
        {
          "output_type": "stream",
          "name": "stderr",
          "text": [
            "Some weights of the model checkpoint at bert-base-uncased were not used when initializing BertModel: ['cls.seq_relationship.weight', 'cls.predictions.transform.dense.weight', 'cls.predictions.transform.LayerNorm.bias', 'cls.predictions.bias', 'cls.predictions.transform.dense.bias', 'cls.predictions.transform.LayerNorm.weight', 'cls.predictions.decoder.weight', 'cls.seq_relationship.bias']\n",
            "- This IS expected if you are initializing BertModel from the checkpoint of a model trained on another task or with another architecture (e.g. initializing a BertForSequenceClassification model from a BertForPreTraining model).\n",
            "- This IS NOT expected if you are initializing BertModel from the checkpoint of a model that you expect to be exactly identical (initializing a BertForSequenceClassification model from a BertForSequenceClassification model).\n"
          ]
        },
        {
          "output_type": "execute_result",
          "data": {
            "text/plain": [
              "================================================================================\n",
              "Layer (type:depth-idx)                                  Param #\n",
              "================================================================================\n",
              "Lucy                                                    --\n",
              "├─BertModel: 1-1                                        --\n",
              "│    └─BertEmbeddings: 2-1                              --\n",
              "│    │    └─Embedding: 3-1                              (23,440,896)\n",
              "│    │    └─Embedding: 3-2                              (393,216)\n",
              "│    │    └─Embedding: 3-3                              (1,536)\n",
              "│    │    └─LayerNorm: 3-4                              (1,536)\n",
              "│    │    └─Dropout: 3-5                                --\n",
              "│    └─BertEncoder: 2-2                                 --\n",
              "│    │    └─ModuleList: 3-6                             (85,054,464)\n",
              "│    └─BertPooler: 2-3                                  --\n",
              "│    │    └─Linear: 3-7                                 (590,592)\n",
              "│    │    └─Tanh: 3-8                                   --\n",
              "├─Dropout: 1-2                                          --\n",
              "├─ReLU: 1-3                                             --\n",
              "├─Linear: 1-4                                           393,728\n",
              "├─Linear: 1-5                                           131,328\n",
              "├─Linear: 1-6                                           9,766\n",
              "├─LogSoftmax: 1-7                                       --\n",
              "================================================================================\n",
              "Total params: 110,017,062\n",
              "Trainable params: 534,822\n",
              "Non-trainable params: 109,482,240\n",
              "================================================================================"
            ]
          },
          "metadata": {},
          "execution_count": 294
        }
      ],
      "source": [
        "bert_model = lucy_model(device)\n",
        "summary(bert_model)"
      ]
    },
    {
      "cell_type": "markdown",
      "source": [
        "#### ii) Roberta"
      ],
      "metadata": {
        "id": "g2NbW43DREt3"
      }
    },
    {
      "cell_type": "code",
      "source": [
        "roberta_model = lucy_model(device, model=\"roberta\")\n",
        "summary(roberta_model)"
      ],
      "metadata": {
        "colab": {
          "base_uri": "https://localhost:8080/"
        },
        "id": "vqoMRWv9Q82v",
        "outputId": "74b3fa58-562e-4981-e856-64a1d7fe22b1"
      },
      "execution_count": 295,
      "outputs": [
        {
          "output_type": "stream",
          "name": "stderr",
          "text": [
            "Some weights of the model checkpoint at roberta-base were not used when initializing RobertaModel: ['lm_head.dense.weight', 'lm_head.decoder.weight', 'lm_head.dense.bias', 'lm_head.layer_norm.bias', 'lm_head.layer_norm.weight', 'lm_head.bias']\n",
            "- This IS expected if you are initializing RobertaModel from the checkpoint of a model trained on another task or with another architecture (e.g. initializing a BertForSequenceClassification model from a BertForPreTraining model).\n",
            "- This IS NOT expected if you are initializing RobertaModel from the checkpoint of a model that you expect to be exactly identical (initializing a BertForSequenceClassification model from a BertForSequenceClassification model).\n"
          ]
        },
        {
          "output_type": "execute_result",
          "data": {
            "text/plain": [
              "=====================================================================================\n",
              "Layer (type:depth-idx)                                       Param #\n",
              "=====================================================================================\n",
              "Lucy                                                         --\n",
              "├─RobertaModel: 1-1                                          --\n",
              "│    └─RobertaEmbeddings: 2-1                                --\n",
              "│    │    └─Embedding: 3-1                                   (38,603,520)\n",
              "│    │    └─Embedding: 3-2                                   (394,752)\n",
              "│    │    └─Embedding: 3-3                                   (768)\n",
              "│    │    └─LayerNorm: 3-4                                   (1,536)\n",
              "│    │    └─Dropout: 3-5                                     --\n",
              "│    └─RobertaEncoder: 2-2                                   --\n",
              "│    │    └─ModuleList: 3-6                                  (85,054,464)\n",
              "│    └─RobertaPooler: 2-3                                    --\n",
              "│    │    └─Linear: 3-7                                      (590,592)\n",
              "│    │    └─Tanh: 3-8                                        --\n",
              "├─Dropout: 1-2                                               --\n",
              "├─ReLU: 1-3                                                  --\n",
              "├─Linear: 1-4                                                393,728\n",
              "├─Linear: 1-5                                                131,328\n",
              "├─Linear: 1-6                                                9,766\n",
              "├─LogSoftmax: 1-7                                            --\n",
              "=====================================================================================\n",
              "Total params: 125,180,454\n",
              "Trainable params: 534,822\n",
              "Non-trainable params: 124,645,632\n",
              "====================================================================================="
            ]
          },
          "metadata": {},
          "execution_count": 295
        }
      ]
    },
    {
      "cell_type": "markdown",
      "source": [
        "#### iii) DistilBert "
      ],
      "metadata": {
        "id": "oBGFafaDRQGi"
      }
    },
    {
      "cell_type": "code",
      "source": [
        "distilbert_model = lucy_model(device, model=\"distilbert\")\n",
        "summary(distilbert_model)"
      ],
      "metadata": {
        "colab": {
          "base_uri": "https://localhost:8080/"
        },
        "id": "m4rQ-ehsRu9I",
        "outputId": "ea7ad415-4dcc-4a4a-d3c7-d96b43964fd1"
      },
      "execution_count": 296,
      "outputs": [
        {
          "output_type": "stream",
          "name": "stderr",
          "text": [
            "Some weights of the model checkpoint at distilbert-base-uncased were not used when initializing DistilBertModel: ['vocab_projector.weight', 'vocab_layer_norm.weight', 'vocab_transform.weight', 'vocab_layer_norm.bias', 'vocab_transform.bias', 'vocab_projector.bias']\n",
            "- This IS expected if you are initializing DistilBertModel from the checkpoint of a model trained on another task or with another architecture (e.g. initializing a BertForSequenceClassification model from a BertForPreTraining model).\n",
            "- This IS NOT expected if you are initializing DistilBertModel from the checkpoint of a model that you expect to be exactly identical (initializing a BertForSequenceClassification model from a BertForSequenceClassification model).\n"
          ]
        },
        {
          "output_type": "execute_result",
          "data": {
            "text/plain": [
              "================================================================================\n",
              "Layer (type:depth-idx)                                  Param #\n",
              "================================================================================\n",
              "Lucy                                                    --\n",
              "├─DistilBertModel: 1-1                                  --\n",
              "│    └─Embeddings: 2-1                                  --\n",
              "│    │    └─Embedding: 3-1                              (23,440,896)\n",
              "│    │    └─Embedding: 3-2                              (393,216)\n",
              "│    │    └─LayerNorm: 3-3                              (1,536)\n",
              "│    │    └─Dropout: 3-4                                --\n",
              "│    └─Transformer: 2-2                                 --\n",
              "│    │    └─ModuleList: 3-5                             (42,527,232)\n",
              "├─Dropout: 1-2                                          --\n",
              "├─ReLU: 1-3                                             --\n",
              "├─Linear: 1-4                                           393,728\n",
              "├─Linear: 1-5                                           131,328\n",
              "├─Linear: 1-6                                           9,766\n",
              "├─LogSoftmax: 1-7                                       --\n",
              "================================================================================\n",
              "Total params: 66,897,702\n",
              "Trainable params: 534,822\n",
              "Non-trainable params: 66,362,880\n",
              "================================================================================"
            ]
          },
          "metadata": {},
          "execution_count": 296
        }
      ]
    },
    {
      "cell_type": "code",
      "execution_count": 297,
      "metadata": {
        "id": "yv2PP8Lo3ZxB"
      },
      "outputs": [],
      "source": [
        "# define the optimizer for BERT, Roberta, DistilBERT\n",
        "bert_optimizer = torch.optim.AdamW(bert_model.parameters(), lr = 1e-3)\n",
        "roberta_optimizer = torch.optim.AdamW(roberta_model.parameters(), lr = 1e-3)\n",
        "distilbert_optimizer = torch.optim.AdamW(distilbert_model.parameters(), lr = 1e-3)"
      ]
    },
    {
      "cell_type": "code",
      "execution_count": 298,
      "metadata": {
        "colab": {
          "base_uri": "https://localhost:8080/"
        },
        "id": "tu6Ce7oN3gMm",
        "outputId": "a3c9a11a-7a6b-4a3d-8c02-611a6b81c6d1"
      },
      "outputs": [
        {
          "output_type": "stream",
          "name": "stdout",
          "text": [
            "[ 0.99122807  1.18947368  1.32163743  0.3498452   0.66081871  2.97368421\n",
            "  0.91497976  1.08133971  2.37894737  0.59473684  1.69924812  0.37171053\n",
            "  0.56641604  0.6996904   1.18947368  3.96491228  0.54066986  0.6996904\n",
            "  1.08133971  0.99122807  0.74342105  2.37894737  0.79298246  0.79298246\n",
            " 11.89473684  1.48684211  1.69924812  1.48684211  3.96491228  0.99122807\n",
            "  0.59473684  1.69924812  1.32163743  1.32163743  1.69924812  1.98245614\n",
            "  1.69924812  1.32163743]\n"
          ]
        }
      ],
      "source": [
        "#compute the class weights\n",
        "class_wts = compute_class_weight(class_weight=\"balanced\", classes=np.unique(train_labels), y=train_labels)\n",
        "print(class_wts)"
      ]
    },
    {
      "cell_type": "code",
      "execution_count": 299,
      "metadata": {
        "id": "U9aErGQ15UbV"
      },
      "outputs": [],
      "source": [
        "# convert class weights to tensor\n",
        "weights= torch.tensor(class_wts,dtype=torch.float)\n",
        "weights = weights.to(device)"
      ]
    },
    {
      "cell_type": "code",
      "execution_count": 300,
      "metadata": {
        "id": "DXLzBSu33qtU"
      },
      "outputs": [],
      "source": [
        "# loss function\n",
        "cross_entropy = nn.NLLLoss(weight=weights) "
      ]
    },
    {
      "cell_type": "code",
      "execution_count": 301,
      "metadata": {
        "id": "xQkpDFjS35ul"
      },
      "outputs": [],
      "source": [
        "# empty lists to store training  loss of each epoch\n",
        "train_losses=[]\n",
        "\n",
        "# empty lists to store training  accuracy of each epoch\n",
        "train_accuracies=[]\n",
        "\n",
        "# number of training epochs\n",
        "epochs = 50"
      ]
    },
    {
      "cell_type": "code",
      "execution_count": 302,
      "metadata": {
        "id": "UdR4GlY75ckn"
      },
      "outputs": [],
      "source": [
        "# function to train the model\n",
        "def train(dataloader, model, optimizer):\n",
        "  \n",
        "  model.train()\n",
        "  total_loss = 0\n",
        "  total_correct = 0\n",
        "  \n",
        "  # empty list to save model predictions\n",
        "  total_preds=[]\n",
        "\n",
        "   # iterate over batches\n",
        "  for step,batch in enumerate(dataloader):\n",
        "    # progress update after every 15 batches.\n",
        "    if step % 50 == 0 and not step == 0:\n",
        "      print('Batch {:>5,}  of  {:>5,}.'.format(step,    len(dataloader)))\n",
        "\n",
        "    # push the batch to gpu or cpu\n",
        "    batch = [r.to(device) for r in batch] \n",
        "    sent_id, mask, labels = batch\n",
        "\n",
        "    # get model predictions for the current batch\n",
        "    preds = model(sent_id, mask)\n",
        "    \n",
        "    # get model accuracy\n",
        "    p = preds.detach().cpu().numpy()\n",
        "    p = torch.from_numpy(np.argmax(p, axis = 1))\n",
        "    \n",
        "    total_correct += (p == labels.detach().cpu()).float().sum()\n",
        "\n",
        "\n",
        "    # compute the loss between actual and predicted values\n",
        "    loss = cross_entropy(preds, labels)\n",
        "\n",
        "    # add on to the total loss\n",
        "    total_loss = total_loss + loss.item()\n",
        "\n",
        "    # backward pass to calculate the gradients\n",
        "    loss.backward()\n",
        "\n",
        "    # clip the the gradients to 1.0. It helps in preventing the exploding gradient problem\n",
        "    torch.nn.utils.clip_grad_norm_(model.parameters(), 1.0)\n",
        "\n",
        "    # update parameters\n",
        "    optimizer.step()\n",
        "\n",
        "    # clear calculated gradients\n",
        "    optimizer.zero_grad()\n",
        "\n",
        "    # model predictions are stored on GPU. So, push it to CPU\n",
        "    preds=preds.detach().cpu().numpy()\n",
        "\n",
        "    # append the model predictions\n",
        "    total_preds.append(preds)\n",
        "    \n",
        "\n",
        "  # compute the training loss of the epoch\n",
        "  avg_loss = total_loss / len(dataloader)\n",
        "  \n",
        "  # compute the training accuracy of the epoch\n",
        "  avg_accuracy = total_correct / len(train_data)\n",
        " \n",
        "  \n",
        "  # predictions are in the form of (no. of batches, size of batch, no. of classes).\n",
        "  # reshape the predictions in form of (number of samples, no. of classes)\n",
        "  total_preds  = np.concatenate(total_preds, axis=0)#returns the loss and predictions\n",
        "  return avg_loss, avg_accuracy, total_preds\n",
        "  \n",
        " "
      ]
    },
    {
      "cell_type": "code",
      "execution_count": 303,
      "metadata": {
        "colab": {
          "base_uri": "https://localhost:8080/"
        },
        "id": "bfVJuOIB7uXH",
        "outputId": "9f70c178-be80-4b09-e4ca-3b83f9e29af5"
      },
      "outputs": [
        {
          "output_type": "stream",
          "name": "stdout",
          "text": [
            "\n",
            " Epoch 1 / 50\n",
            "\n",
            "Training Loss: 3.671\n",
            "\n",
            "Training Accuracy: 2.434 %\n",
            "\n",
            " Epoch 2 / 50\n",
            "\n",
            "Training Loss: 3.542\n",
            "\n",
            "Training Accuracy: 11.726 %\n",
            "\n",
            " Epoch 3 / 50\n",
            "\n",
            "Training Loss: 3.312\n",
            "\n",
            "Training Accuracy: 18.142 %\n",
            "\n",
            " Epoch 4 / 50\n",
            "\n",
            "Training Loss: 3.034\n",
            "\n",
            "Training Accuracy: 23.673 %\n",
            "\n",
            " Epoch 5 / 50\n",
            "\n",
            "Training Loss: 2.742\n",
            "\n",
            "Training Accuracy: 28.319 %\n",
            "\n",
            " Epoch 6 / 50\n",
            "\n",
            "Training Loss: 2.478\n",
            "\n",
            "Training Accuracy: 33.850 %\n",
            "\n",
            " Epoch 7 / 50\n",
            "\n",
            "Training Loss: 2.203\n",
            "\n",
            "Training Accuracy: 42.920 %\n",
            "\n",
            " Epoch 8 / 50\n",
            "\n",
            "Training Loss: 1.983\n",
            "\n",
            "Training Accuracy: 48.009 %\n",
            "\n",
            " Epoch 9 / 50\n",
            "\n",
            "Training Loss: 1.801\n",
            "\n",
            "Training Accuracy: 50.442 %\n",
            "\n",
            " Epoch 10 / 50\n",
            "\n",
            "Training Loss: 1.593\n",
            "\n",
            "Training Accuracy: 54.425 %\n",
            "\n",
            " Epoch 11 / 50\n",
            "\n",
            "Training Loss: 1.578\n",
            "\n",
            "Training Accuracy: 58.407 %\n",
            "\n",
            " Epoch 12 / 50\n",
            "\n",
            "Training Loss: 1.355\n",
            "\n",
            "Training Accuracy: 59.956 %\n",
            "\n",
            " Epoch 13 / 50\n",
            "\n",
            "Training Loss: 1.208\n",
            "\n",
            "Training Accuracy: 65.265 %\n",
            "\n",
            " Epoch 14 / 50\n",
            "\n",
            "Training Loss: 1.136\n",
            "\n",
            "Training Accuracy: 64.381 %\n",
            "\n",
            " Epoch 15 / 50\n",
            "\n",
            "Training Loss: 0.968\n",
            "\n",
            "Training Accuracy: 70.796 %\n",
            "\n",
            " Epoch 16 / 50\n",
            "\n",
            "Training Loss: 0.943\n",
            "\n",
            "Training Accuracy: 72.345 %\n",
            "\n",
            " Epoch 17 / 50\n",
            "\n",
            "Training Loss: 0.863\n",
            "\n",
            "Training Accuracy: 75.000 %\n",
            "\n",
            " Epoch 18 / 50\n",
            "\n",
            "Training Loss: 0.765\n",
            "\n",
            "Training Accuracy: 76.549 %\n",
            "\n",
            " Epoch 19 / 50\n",
            "\n",
            "Training Loss: 0.744\n",
            "\n",
            "Training Accuracy: 76.991 %\n",
            "\n",
            " Epoch 20 / 50\n",
            "\n",
            "Training Loss: 0.760\n",
            "\n",
            "Training Accuracy: 76.327 %\n",
            "\n",
            " Epoch 21 / 50\n",
            "\n",
            "Training Loss: 0.651\n",
            "\n",
            "Training Accuracy: 79.646 %\n",
            "\n",
            " Epoch 22 / 50\n",
            "\n",
            "Training Loss: 0.654\n",
            "\n",
            "Training Accuracy: 79.425 %\n",
            "\n",
            " Epoch 23 / 50\n",
            "\n",
            "Training Loss: 0.593\n",
            "\n",
            "Training Accuracy: 84.071 %\n",
            "\n",
            " Epoch 24 / 50\n",
            "\n",
            "Training Loss: 0.576\n",
            "\n",
            "Training Accuracy: 83.850 %\n",
            "\n",
            " Epoch 25 / 50\n",
            "\n",
            "Training Loss: 0.507\n",
            "\n",
            "Training Accuracy: 83.407 %\n",
            "\n",
            " Epoch 26 / 50\n",
            "\n",
            "Training Loss: 0.492\n",
            "\n",
            "Training Accuracy: 84.513 %\n",
            "\n",
            " Epoch 27 / 50\n",
            "\n",
            "Training Loss: 0.507\n",
            "\n",
            "Training Accuracy: 82.080 %\n",
            "\n",
            " Epoch 28 / 50\n",
            "\n",
            "Training Loss: 0.438\n",
            "\n",
            "Training Accuracy: 85.841 %\n",
            "\n",
            " Epoch 29 / 50\n",
            "\n",
            "Training Loss: 0.438\n",
            "\n",
            "Training Accuracy: 87.389 %\n",
            "\n",
            " Epoch 30 / 50\n",
            "\n",
            "Training Loss: 0.446\n",
            "\n",
            "Training Accuracy: 85.177 %\n",
            "\n",
            " Epoch 31 / 50\n",
            "\n",
            "Training Loss: 0.443\n",
            "\n",
            "Training Accuracy: 87.168 %\n",
            "\n",
            " Epoch 32 / 50\n",
            "\n",
            "Training Loss: 0.386\n",
            "\n",
            "Training Accuracy: 88.938 %\n",
            "\n",
            " Epoch 33 / 50\n",
            "\n",
            "Training Loss: 0.463\n",
            "\n",
            "Training Accuracy: 88.053 %\n",
            "\n",
            " Epoch 34 / 50\n",
            "\n",
            "Training Loss: 0.408\n",
            "\n",
            "Training Accuracy: 84.956 %\n",
            "\n",
            " Epoch 35 / 50\n",
            "\n",
            "Training Loss: 0.368\n",
            "\n",
            "Training Accuracy: 89.381 %\n",
            "\n",
            " Epoch 36 / 50\n",
            "\n",
            "Training Loss: 0.364\n",
            "\n",
            "Training Accuracy: 86.947 %\n",
            "\n",
            " Epoch 37 / 50\n",
            "\n",
            "Training Loss: 0.352\n",
            "\n",
            "Training Accuracy: 87.389 %\n",
            "\n",
            " Epoch 38 / 50\n",
            "\n",
            "Training Loss: 0.345\n",
            "\n",
            "Training Accuracy: 87.611 %\n",
            "\n",
            " Epoch 39 / 50\n",
            "\n",
            "Training Loss: 0.312\n",
            "\n",
            "Training Accuracy: 89.159 %\n",
            "\n",
            " Epoch 40 / 50\n",
            "\n",
            "Training Loss: 0.304\n",
            "\n",
            "Training Accuracy: 90.487 %\n",
            "\n",
            " Epoch 41 / 50\n",
            "\n",
            "Training Loss: 0.291\n",
            "\n",
            "Training Accuracy: 90.708 %\n",
            "\n",
            " Epoch 42 / 50\n",
            "\n",
            "Training Loss: 0.346\n",
            "\n",
            "Training Accuracy: 89.159 %\n",
            "\n",
            " Epoch 43 / 50\n",
            "\n",
            "Training Loss: 0.265\n",
            "\n",
            "Training Accuracy: 90.929 %\n",
            "\n",
            " Epoch 44 / 50\n",
            "\n",
            "Training Loss: 0.358\n",
            "\n",
            "Training Accuracy: 91.150 %\n",
            "\n",
            " Epoch 45 / 50\n",
            "\n",
            "Training Loss: 0.275\n",
            "\n",
            "Training Accuracy: 89.602 %\n",
            "\n",
            " Epoch 46 / 50\n",
            "\n",
            "Training Loss: 0.266\n",
            "\n",
            "Training Accuracy: 90.929 %\n",
            "\n",
            " Epoch 47 / 50\n",
            "\n",
            "Training Loss: 0.271\n",
            "\n",
            "Training Accuracy: 90.044 %\n",
            "\n",
            " Epoch 48 / 50\n",
            "\n",
            "Training Loss: 0.282\n",
            "\n",
            "Training Accuracy: 90.265 %\n",
            "\n",
            " Epoch 49 / 50\n",
            "\n",
            "Training Loss: 0.225\n",
            "\n",
            "Training Accuracy: 91.372 %\n",
            "\n",
            " Epoch 50 / 50\n",
            "\n",
            "Training Loss: 0.235\n",
            "\n",
            "Training Accuracy: 91.593 %\n"
          ]
        }
      ],
      "source": [
        "for epoch in range(epochs):\n",
        "     \n",
        "    print('\\n Epoch {:} / {:}'.format(epoch + 1, epochs))\n",
        "    \n",
        "    #train model\n",
        "    train_loss, train_accuracy ,_ = train(train_dataloader, bert_model, bert_optimizer)\n",
        "    \n",
        "    # append training loss\n",
        "    train_losses.append(train_loss)\n",
        "\n",
        "    # appedn training accuracy\n",
        "    train_accuracies.append(train_accuracy)\n",
        "\n",
        "    # it can make your experiment reproducible, similar to set  random seed to all options where there needs a random seed.    torch.backends.cudnn.deterministic = True\n",
        "    torch.backends.cudnn.benchmark = False\n",
        "\n",
        "    print(f'\\nTraining Loss: {train_loss:.3f}')\n",
        "    print(f'\\nTraining Accuracy: {train_accuracy * 100:.3f} %')"
      ]
    },
    {
      "cell_type": "markdown",
      "source": [
        "## Analysis of Training"
      ],
      "metadata": {
        "id": "3GRCAIlkaknR"
      }
    },
    {
      "cell_type": "code",
      "source": [
        "train_losses = np.array(train_losses)\n",
        "train_accuracies = np.array(train_accuracies)"
      ],
      "metadata": {
        "id": "V44_DCTna88o"
      },
      "execution_count": 304,
      "outputs": []
    },
    {
      "cell_type": "code",
      "source": [
        "plt.plot(train_losses)\n",
        "plt.title(\"Model Training Loss\")\n",
        "plt.ylabel(\"loss\")\n",
        "plt.xlabel(\"epoch\")\n",
        "plt.legend(['train'], loc=\"upper left\")\n",
        "plt.show()"
      ],
      "metadata": {
        "colab": {
          "base_uri": "https://localhost:8080/",
          "height": 295
        },
        "id": "K6wepzEYbhKL",
        "outputId": "d66609f2-a79e-4055-a518-d1a049e8a258"
      },
      "execution_count": 305,
      "outputs": [
        {
          "output_type": "display_data",
          "data": {
            "text/plain": [
              "<Figure size 432x288 with 1 Axes>"
            ],
            "image/png": "[encoded data removed]"
          },
          "metadata": {
            "needs_background": "light"
          }
        }
      ]
    },
    {
      "cell_type": "code",
      "source": [
        "plt.plot(train_accuracies)\n",
        "plt.title(\"Model Training Accuracy\")\n",
        "plt.ylabel(\"accuracy\")\n",
        "plt.xlabel(\"epoch\")\n",
        "plt.legend(['train'], loc=\"upper left\")\n",
        "plt.show()"
      ],
      "metadata": {
        "colab": {
          "base_uri": "https://localhost:8080/",
          "height": 295
        },
        "id": "Hs3czAAFcN28",
        "outputId": "ddef0e37-18e0-4bb1-95b8-2ed17872d2c9"
      },
      "execution_count": 306,
      "outputs": [
        {
          "output_type": "display_data",
          "data": {
            "text/plain": [
              "<Figure size 432x288 with 1 Axes>"
            ],
            "image/png": "[encoded data removed]"
          },
          "metadata": {
            "needs_background": "light"
          }
        }
      ]
    },
    {
      "cell_type": "markdown",
      "metadata": {
        "id": "QMO6aAb6UQpU"
      },
      "source": [
        "## Saving the Lucy model"
      ]
    },
    {
      "cell_type": "code",
      "execution_count": 307,
      "metadata": {
        "id": "l4E8pZOhUKaZ"
      },
      "outputs": [],
      "source": [
        "PATH = \"lucy_bert.pth\"\n",
        "torch.save(bert_model.state_dict(), PATH)"
      ]
    },
    {
      "cell_type": "markdown",
      "metadata": {
        "id": "TSJKLeFNVFkO"
      },
      "source": [
        "## Testing the Lucy"
      ]
    },
    {
      "cell_type": "code",
      "source": [
        "# empty lists to store testing  loss of each epoch\n",
        "test_losses=[]\n",
        "\n",
        "# empty lists to store tesing  accuracy of each epoch\n",
        "test_accuracies=[]"
      ],
      "metadata": {
        "id": "VkRguji7Q066"
      },
      "execution_count": 308,
      "outputs": []
    },
    {
      "cell_type": "code",
      "source": [
        "@torch.no_grad()\n",
        "def test(dataloader, model):\n",
        "  total_loss = 0\n",
        "  total_correct = 0\n",
        "  \n",
        "  # empty list to save model predictions\n",
        "  total_preds=[]\n",
        "\n",
        "  # iterate over batches\n",
        "  for step,batch in enumerate(dataloader):\n",
        "    # progress update after every 50 batches.\n",
        "    if step % 50 == 0 and not step == 0:\n",
        "      print(\"Batch {:>5,}  of  {:>5,}.'.format(step, len(dataloader))\")\n",
        "\n",
        "    # push the batch to gpu or cpu\n",
        "    batch = [r.to(device) for r in batch] \n",
        "    sent_id, mask, labels = batch\n",
        "\n",
        "    # get model predictions for the current batch\n",
        "    preds = model(sent_id, mask)\n",
        "\n",
        "    # compute the loss between actual and predicted values\n",
        "    loss = cross_entropy(preds, labels)\n",
        "    \n",
        "    # compute the accuracy\n",
        "    p = preds.detach().cpu().numpy()\n",
        "    p = torch.from_numpy(np.argmax(p, axis = 1))\n",
        "    \n",
        "    total_correct += (p == labels.detach().cpu()).float().sum()\n",
        "\n",
        "    # add on to the total loss\n",
        "    total_loss = total_loss + loss.item()\n",
        "\n",
        "    # model predictions are stored on GPU. So, push it to CPU\n",
        "    preds=preds.detach().cpu().numpy()\n",
        "\n",
        "    # append the model predictions\n",
        "    total_preds.append(preds)\n",
        "\n",
        "  # compute the training loss of the epoch\n",
        "  avg_loss = total_loss / len(dataloader)\n",
        "\n",
        "  # compute the training accuracy of the epoch\n",
        "  avg_accuracy = total_correct / len(train_data)\n",
        "  \n",
        "  # predictions are in the form of (no. of batches, size of batch, no. of classes).\n",
        "  # reshape the predictions in form of (number of samples, no. of classes)\n",
        "  total_preds  = np.concatenate(total_preds, axis=0)#returns the loss and predictions\n",
        "\n",
        "  return avg_loss,avg_accuracy, total_preds\n",
        "  \n",
        " "
      ],
      "metadata": {
        "id": "Y1lhkGrNREEK"
      },
      "execution_count": 334,
      "outputs": []
    },
    {
      "cell_type": "code",
      "source": [
        "test_loss, test_accuracy , test_y_preds = test(test_dataloader, bert_model)\n",
        "\n",
        "print(f'\\nTesting Loss: {test_loss:.3f}')\n",
        "print(f'\\nTesting Accuracy: {test_accuracy * 100:.3f} %')"
      ],
      "metadata": {
        "colab": {
          "base_uri": "https://localhost:8080/"
        },
        "id": "sAnN1yLzREHs",
        "outputId": "41bdf1b6-8dcf-4328-b39b-abe544b8ee50"
      },
      "execution_count": 335,
      "outputs": [
        {
          "output_type": "stream",
          "name": "stdout",
          "text": [
            "\n",
            "Testing Loss: 0.047\n",
            "\n",
            "Testing Accuracy: 99.115 %\n"
          ]
        }
      ]
    },
    {
      "cell_type": "code",
      "source": [
        "test_y_preds = np.argmax(torch.tensor(test_y_preds), axis=-1)"
      ],
      "metadata": {
        "id": "Bhho3FIMqJZ6"
      },
      "execution_count": 341,
      "outputs": []
    },
    {
      "cell_type": "code",
      "source": [
        "classes = le.classes_.tolist()"
      ],
      "metadata": {
        "id": "XnYGAfRchdKW"
      },
      "execution_count": 342,
      "outputs": []
    },
    {
      "cell_type": "code",
      "source": [
        "test_y_true = []\n",
        "for batch in test_dataloader:\n",
        "   _, _, labels = batch\n",
        "   a = torch.Tensor.tolist(labels)\n",
        "   for i in a:\n",
        "     test_y_true.append(i)\n",
        "  "
      ],
      "metadata": {
        "id": "4LmJK7w_pqst"
      },
      "execution_count": 343,
      "outputs": []
    },
    {
      "cell_type": "code",
      "source": [
        "test_y_true = le.inverse_transform(test_y_true)"
      ],
      "metadata": {
        "id": "pjtEv61H8gqQ"
      },
      "execution_count": 344,
      "outputs": []
    },
    {
      "cell_type": "code",
      "source": [
        "test_y_preds = le.inverse_transform(test_y_preds)"
      ],
      "metadata": {
        "id": "J7r_RmQE8gtI"
      },
      "execution_count": 345,
      "outputs": []
    },
    {
      "cell_type": "code",
      "source": [
        "# Classification report\n",
        "classification_report(test_y_true, test_y_preds)"
      ],
      "metadata": {
        "colab": {
          "base_uri": "https://localhost:8080/",
          "height": 179
        },
        "id": "6Gyttp5oRE1t",
        "outputId": "11040984-8abe-47cf-c0a2-2342ee1ac958"
      },
      "execution_count": 353,
      "outputs": [
        {
          "output_type": "execute_result",
          "data": {
            "text/plain": [
              "'                precision    recall  f1-score   support\\n\\n     admission       1.00      1.00      1.00        12\\n       canteen       0.91      1.00      0.95        10\\ncollege intake       1.00      1.00      1.00         9\\n        course       1.00      0.97      0.99        34\\n       creator       1.00      1.00      1.00        18\\n        csehod       1.00      1.00      1.00         4\\n      document       1.00      1.00      1.00        13\\n         event       1.00      1.00      1.00        11\\n    facilities       1.00      1.00      1.00         5\\n       faculty       1.00      1.00      1.00        20\\nfaculty portal       1.00      1.00      1.00         7\\n          fees       1.00      1.00      1.00        32\\n          fest       1.00      1.00      1.00        21\\n       goodbye       1.00      1.00      1.00        17\\n      greeting       1.00      1.00      1.00        10\\n           hod       1.00      1.00      1.00         3\\n        hostel       1.00      1.00      1.00        22\\n         hours       1.00      1.00      1.00        17\\ninfrastructure       0.91      0.91      0.91        11\\n       library       1.00      1.00      1.00        12\\n      location       1.00      0.94      0.97        16\\n          menu       1.00      1.00      1.00         5\\n          name       1.00      1.00      1.00        15\\n        number       1.00      0.93      0.97        15\\n         other       1.00      1.00      1.00         1\\n     placement       1.00      1.00      1.00         8\\n     principal       0.88      1.00      0.93         7\\n       ragging       1.00      1.00      1.00         8\\n        random       1.00      1.00      1.00         3\\n    salutation       1.00      1.00      1.00        12\\n   scholarship       1.00      1.00      1.00        20\\n        sports       1.00      1.00      1.00         7\\nstudent portal       1.00      1.00      1.00         9\\n         swear       1.00      1.00      1.00         9\\n      syllabus       1.00      1.00      1.00         7\\n          task       1.00      1.00      1.00         6\\n     transport       0.88      1.00      0.93         7\\n       uniform       1.00      1.00      1.00         9\\n\\n      accuracy                           0.99       452\\n     macro avg       0.99      0.99      0.99       452\\n  weighted avg       0.99      0.99      0.99       452\\n'"
            ],
            "application/vnd.google.colaboratory.intrinsic+json": {
              "type": "string"
            }
          },
          "metadata": {},
          "execution_count": 353
        }
      ]
    },
    {
      "cell_type": "code",
      "source": [
        "# Build confusion matrix\n",
        "cf_matrix = confusion_matrix(test_y_true, test_y_preds)"
      ],
      "metadata": {
        "id": "2hvqq-Mophxh"
      },
      "execution_count": 349,
      "outputs": []
    },
    {
      "cell_type": "code",
      "source": [
        "df_cm = pd.DataFrame(cf_matrix, index = [i for i in classes], columns = [i for i in classes])\n",
        "plt.figure(figsize = (40,40))\n",
        "plt.xlabel(\"Predicted Class\")\n",
        "plt.ylabel(\"True Class\")\n",
        "sn.heatmap(df_cm, annot=True)\n",
        "plt.savefig('output.png')"
      ],
      "metadata": {
        "colab": {
          "base_uri": "https://localhost:8080/",
          "height": 1000
        },
        "id": "wtrX5EPOph0g",
        "outputId": "9ec05bb6-6326-4d2a-eeb6-1ab7c0767c00"
      },
      "execution_count": 350,
      "outputs": [
        {
          "output_type": "display_data",
          "data": {
            "text/plain": [
              "<Figure size 2880x2880 with 2 Axes>"
            ],
            "image/png": "[encoded data removed]"
          },
          "metadata": {
            "needs_background": "light"
          }
        }
      ]
    },
    {
      "cell_type": "markdown",
      "metadata": {
        "id": "HoCoqhWMWCx2"
      },
      "source": [
        "## Inference"
      ]
    },
    {
      "cell_type": "code",
      "execution_count": 269,
      "metadata": {
        "id": "t4Ag1zCM78N1"
      },
      "outputs": [],
      "source": [
        "def get_prediction(str, model, model_type):\n",
        " str = re.sub(r'[^a-zA-Z ]+', '', str)\n",
        " test_text = [str]\n",
        " model.eval()\n",
        " tokenizer = load_tokenizer(model=model_type)\n",
        " \n",
        " tokens_test_data = tokenizer(\n",
        "                  test_text,\n",
        "                  max_length = max_seq_len,\n",
        "                  padding=\"max_length\",\n",
        "                  truncation=True,\n",
        "                  return_token_type_ids=False\n",
        "                ) \n",
        " test_seq = torch.tensor(tokens_test_data['input_ids'])\n",
        " test_mask = torch.tensor(tokens_test_data['attention_mask'])\n",
        " \n",
        " preds = None\n",
        " with torch.no_grad():\n",
        "   preds = model(test_seq.to(device), test_mask.to(device))\n",
        "   \n",
        " preds = preds.detach().cpu().numpy()\n",
        " preds = np.argmax(preds, axis = 1)\n",
        " print(\"Intent Identified: \", le.inverse_transform(preds)[0])\n",
        " return le.inverse_transform(preds)[0]\n"
      ]
    },
    {
      "cell_type": "code",
      "execution_count": 331,
      "metadata": {
        "id": "hDndnd1r9PIF"
      },
      "outputs": [],
      "source": [
        "def get_response(intents_data, message): \n",
        "  intent = get_prediction(message, bert_model, \"bert\")\n",
        "  for i in intents_data['intents']: \n",
        "     if i[\"tag\"] == intent:\n",
        "       result = random.choice(i[\"responses\"])\n",
        "       break\n",
        "  print(f\"Response : {result}\")\n",
        "  return \"Intent: \"+ intent + \"\\n\" + \"Response: \" + result"
      ]
    },
    {
      "cell_type": "code",
      "execution_count": 332,
      "metadata": {
        "colab": {
          "base_uri": "https://localhost:8080/",
          "height": 71
        },
        "id": "kQeSmzW29bJ1",
        "outputId": "a11f2b65-4092-412a-9f5e-8ecd8b1206f9"
      },
      "outputs": [
        {
          "output_type": "stream",
          "name": "stdout",
          "text": [
            "Intent Identified:  location\n",
            "Response : Changunarayan, Bhaktapur, Nepal. For more details visit \n"
          ]
        },
        {
          "output_type": "execute_result",
          "data": {
            "text/plain": [
              "'Intent: location\\nResponse: Changunarayan, Bhaktapur, Nepal. For more details visit '"
            ],
            "application/vnd.google.colaboratory.intrinsic+json": {
              "type": "string"
            }
          },
          "metadata": {},
          "execution_count": 332
        }
      ],
      "source": [
        "f = open('intents.json')\n",
        "data = json.load(f)\n",
        "\n",
        "\n",
        "get_response(data, \"Where is Nec?\")"
      ]
    },
    {
      "cell_type": "code",
      "execution_count": 158,
      "metadata": {
        "id": "Ny95lCLpp8J_"
      },
      "outputs": [],
      "source": [
        "import json\n",
        "\n",
        "classes = le.classes_.tolist()\n",
        "filename = 'labels.json'\n",
        "with open(filename, 'w') as file_object:  \n",
        "  json.dump(classes, file_object)"
      ]
    }
  ],
  "metadata": {
    "accelerator": "GPU",
    "colab": {
      "collapsed_sections": [],
      "provenance": []
    },
    "gpuClass": "standard",
    "kernelspec": {
      "display_name": "Python 3.10.5 64-bit",
      "language": "python",
      "name": "python3"
    },
    "language_info": {
      "name": "python",
      "version": "3.10.5"
    },
    "vscode": {
      "interpreter": {
        "hash": "e7370f93d1d0cde622a1f8e1c04877d8463912d04d973331ad4851f04de6915a"
      }
    }
  },
  "nbformat": 4,
  "nbformat_minor": 0
}